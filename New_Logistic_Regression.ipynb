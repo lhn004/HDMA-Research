{
 "cells": [
  {
   "cell_type": "code",
   "execution_count": 1,
   "id": "a447571c",
   "metadata": {},
   "outputs": [],
   "source": [
    "import pandas as pd\n",
    "import numpy as np\n",
    "import matplotlib.pyplot as plt # data visualization\n",
    "import seaborn as sns # statistical data visualization\n",
    "%matplotlib inline\n",
    "from sklearn.metrics import accuracy_score\n",
    "from sklearn.metrics import confusion_matrix\n",
    "from sklearn.linear_model import LogisticRegression\n"
   ]
  },
  {
   "cell_type": "code",
   "execution_count": 2,
   "id": "cb67e6be",
   "metadata": {},
   "outputs": [
    {
     "ename": "FileNotFoundError",
     "evalue": "[Errno 2] No such file or directory: '/Users/nguyenhalinh/Desktop/Research/42101_county_dea.csv'",
     "output_type": "error",
     "traceback": [
      "\u001b[0;31m---------------------------------------------------------------------------\u001b[0m",
      "\u001b[0;31mFileNotFoundError\u001b[0m                         Traceback (most recent call last)",
      "Input \u001b[0;32mIn [2]\u001b[0m, in \u001b[0;36m<cell line: 1>\u001b[0;34m()\u001b[0m\n\u001b[0;32m----> 1\u001b[0m eff_df \u001b[38;5;241m=\u001b[39m \u001b[43mpd\u001b[49m\u001b[38;5;241;43m.\u001b[39;49m\u001b[43mread_csv\u001b[49m\u001b[43m(\u001b[49m\u001b[38;5;124;43m\"\u001b[39;49m\u001b[38;5;124;43m/Users/nguyenhalinh/Desktop/Research/42101_county_dea.csv\u001b[39;49m\u001b[38;5;124;43m\"\u001b[39;49m\u001b[43m)\u001b[49m\n",
      "File \u001b[0;32m/opt/anaconda3/envs/pyclass/lib/python3.9/site-packages/pandas/util/_decorators.py:211\u001b[0m, in \u001b[0;36mdeprecate_kwarg.<locals>._deprecate_kwarg.<locals>.wrapper\u001b[0;34m(*args, **kwargs)\u001b[0m\n\u001b[1;32m    209\u001b[0m     \u001b[38;5;28;01melse\u001b[39;00m:\n\u001b[1;32m    210\u001b[0m         kwargs[new_arg_name] \u001b[38;5;241m=\u001b[39m new_arg_value\n\u001b[0;32m--> 211\u001b[0m \u001b[38;5;28;01mreturn\u001b[39;00m \u001b[43mfunc\u001b[49m\u001b[43m(\u001b[49m\u001b[38;5;241;43m*\u001b[39;49m\u001b[43margs\u001b[49m\u001b[43m,\u001b[49m\u001b[43m \u001b[49m\u001b[38;5;241;43m*\u001b[39;49m\u001b[38;5;241;43m*\u001b[39;49m\u001b[43mkwargs\u001b[49m\u001b[43m)\u001b[49m\n",
      "File \u001b[0;32m/opt/anaconda3/envs/pyclass/lib/python3.9/site-packages/pandas/util/_decorators.py:331\u001b[0m, in \u001b[0;36mdeprecate_nonkeyword_arguments.<locals>.decorate.<locals>.wrapper\u001b[0;34m(*args, **kwargs)\u001b[0m\n\u001b[1;32m    325\u001b[0m \u001b[38;5;28;01mif\u001b[39;00m \u001b[38;5;28mlen\u001b[39m(args) \u001b[38;5;241m>\u001b[39m num_allow_args:\n\u001b[1;32m    326\u001b[0m     warnings\u001b[38;5;241m.\u001b[39mwarn(\n\u001b[1;32m    327\u001b[0m         msg\u001b[38;5;241m.\u001b[39mformat(arguments\u001b[38;5;241m=\u001b[39m_format_argument_list(allow_args)),\n\u001b[1;32m    328\u001b[0m         \u001b[38;5;167;01mFutureWarning\u001b[39;00m,\n\u001b[1;32m    329\u001b[0m         stacklevel\u001b[38;5;241m=\u001b[39mfind_stack_level(),\n\u001b[1;32m    330\u001b[0m     )\n\u001b[0;32m--> 331\u001b[0m \u001b[38;5;28;01mreturn\u001b[39;00m \u001b[43mfunc\u001b[49m\u001b[43m(\u001b[49m\u001b[38;5;241;43m*\u001b[39;49m\u001b[43margs\u001b[49m\u001b[43m,\u001b[49m\u001b[43m \u001b[49m\u001b[38;5;241;43m*\u001b[39;49m\u001b[38;5;241;43m*\u001b[39;49m\u001b[43mkwargs\u001b[49m\u001b[43m)\u001b[49m\n",
      "File \u001b[0;32m/opt/anaconda3/envs/pyclass/lib/python3.9/site-packages/pandas/io/parsers/readers.py:950\u001b[0m, in \u001b[0;36mread_csv\u001b[0;34m(filepath_or_buffer, sep, delimiter, header, names, index_col, usecols, squeeze, prefix, mangle_dupe_cols, dtype, engine, converters, true_values, false_values, skipinitialspace, skiprows, skipfooter, nrows, na_values, keep_default_na, na_filter, verbose, skip_blank_lines, parse_dates, infer_datetime_format, keep_date_col, date_parser, dayfirst, cache_dates, iterator, chunksize, compression, thousands, decimal, lineterminator, quotechar, quoting, doublequote, escapechar, comment, encoding, encoding_errors, dialect, error_bad_lines, warn_bad_lines, on_bad_lines, delim_whitespace, low_memory, memory_map, float_precision, storage_options)\u001b[0m\n\u001b[1;32m    935\u001b[0m kwds_defaults \u001b[38;5;241m=\u001b[39m _refine_defaults_read(\n\u001b[1;32m    936\u001b[0m     dialect,\n\u001b[1;32m    937\u001b[0m     delimiter,\n\u001b[0;32m   (...)\u001b[0m\n\u001b[1;32m    946\u001b[0m     defaults\u001b[38;5;241m=\u001b[39m{\u001b[38;5;124m\"\u001b[39m\u001b[38;5;124mdelimiter\u001b[39m\u001b[38;5;124m\"\u001b[39m: \u001b[38;5;124m\"\u001b[39m\u001b[38;5;124m,\u001b[39m\u001b[38;5;124m\"\u001b[39m},\n\u001b[1;32m    947\u001b[0m )\n\u001b[1;32m    948\u001b[0m kwds\u001b[38;5;241m.\u001b[39mupdate(kwds_defaults)\n\u001b[0;32m--> 950\u001b[0m \u001b[38;5;28;01mreturn\u001b[39;00m \u001b[43m_read\u001b[49m\u001b[43m(\u001b[49m\u001b[43mfilepath_or_buffer\u001b[49m\u001b[43m,\u001b[49m\u001b[43m \u001b[49m\u001b[43mkwds\u001b[49m\u001b[43m)\u001b[49m\n",
      "File \u001b[0;32m/opt/anaconda3/envs/pyclass/lib/python3.9/site-packages/pandas/io/parsers/readers.py:605\u001b[0m, in \u001b[0;36m_read\u001b[0;34m(filepath_or_buffer, kwds)\u001b[0m\n\u001b[1;32m    602\u001b[0m _validate_names(kwds\u001b[38;5;241m.\u001b[39mget(\u001b[38;5;124m\"\u001b[39m\u001b[38;5;124mnames\u001b[39m\u001b[38;5;124m\"\u001b[39m, \u001b[38;5;28;01mNone\u001b[39;00m))\n\u001b[1;32m    604\u001b[0m \u001b[38;5;66;03m# Create the parser.\u001b[39;00m\n\u001b[0;32m--> 605\u001b[0m parser \u001b[38;5;241m=\u001b[39m \u001b[43mTextFileReader\u001b[49m\u001b[43m(\u001b[49m\u001b[43mfilepath_or_buffer\u001b[49m\u001b[43m,\u001b[49m\u001b[43m \u001b[49m\u001b[38;5;241;43m*\u001b[39;49m\u001b[38;5;241;43m*\u001b[39;49m\u001b[43mkwds\u001b[49m\u001b[43m)\u001b[49m\n\u001b[1;32m    607\u001b[0m \u001b[38;5;28;01mif\u001b[39;00m chunksize \u001b[38;5;129;01mor\u001b[39;00m iterator:\n\u001b[1;32m    608\u001b[0m     \u001b[38;5;28;01mreturn\u001b[39;00m parser\n",
      "File \u001b[0;32m/opt/anaconda3/envs/pyclass/lib/python3.9/site-packages/pandas/io/parsers/readers.py:1442\u001b[0m, in \u001b[0;36mTextFileReader.__init__\u001b[0;34m(self, f, engine, **kwds)\u001b[0m\n\u001b[1;32m   1439\u001b[0m     \u001b[38;5;28mself\u001b[39m\u001b[38;5;241m.\u001b[39moptions[\u001b[38;5;124m\"\u001b[39m\u001b[38;5;124mhas_index_names\u001b[39m\u001b[38;5;124m\"\u001b[39m] \u001b[38;5;241m=\u001b[39m kwds[\u001b[38;5;124m\"\u001b[39m\u001b[38;5;124mhas_index_names\u001b[39m\u001b[38;5;124m\"\u001b[39m]\n\u001b[1;32m   1441\u001b[0m \u001b[38;5;28mself\u001b[39m\u001b[38;5;241m.\u001b[39mhandles: IOHandles \u001b[38;5;241m|\u001b[39m \u001b[38;5;28;01mNone\u001b[39;00m \u001b[38;5;241m=\u001b[39m \u001b[38;5;28;01mNone\u001b[39;00m\n\u001b[0;32m-> 1442\u001b[0m \u001b[38;5;28mself\u001b[39m\u001b[38;5;241m.\u001b[39m_engine \u001b[38;5;241m=\u001b[39m \u001b[38;5;28;43mself\u001b[39;49m\u001b[38;5;241;43m.\u001b[39;49m\u001b[43m_make_engine\u001b[49m\u001b[43m(\u001b[49m\u001b[43mf\u001b[49m\u001b[43m,\u001b[49m\u001b[43m \u001b[49m\u001b[38;5;28;43mself\u001b[39;49m\u001b[38;5;241;43m.\u001b[39;49m\u001b[43mengine\u001b[49m\u001b[43m)\u001b[49m\n",
      "File \u001b[0;32m/opt/anaconda3/envs/pyclass/lib/python3.9/site-packages/pandas/io/parsers/readers.py:1735\u001b[0m, in \u001b[0;36mTextFileReader._make_engine\u001b[0;34m(self, f, engine)\u001b[0m\n\u001b[1;32m   1733\u001b[0m     \u001b[38;5;28;01mif\u001b[39;00m \u001b[38;5;124m\"\u001b[39m\u001b[38;5;124mb\u001b[39m\u001b[38;5;124m\"\u001b[39m \u001b[38;5;129;01mnot\u001b[39;00m \u001b[38;5;129;01min\u001b[39;00m mode:\n\u001b[1;32m   1734\u001b[0m         mode \u001b[38;5;241m+\u001b[39m\u001b[38;5;241m=\u001b[39m \u001b[38;5;124m\"\u001b[39m\u001b[38;5;124mb\u001b[39m\u001b[38;5;124m\"\u001b[39m\n\u001b[0;32m-> 1735\u001b[0m \u001b[38;5;28mself\u001b[39m\u001b[38;5;241m.\u001b[39mhandles \u001b[38;5;241m=\u001b[39m \u001b[43mget_handle\u001b[49m\u001b[43m(\u001b[49m\n\u001b[1;32m   1736\u001b[0m \u001b[43m    \u001b[49m\u001b[43mf\u001b[49m\u001b[43m,\u001b[49m\n\u001b[1;32m   1737\u001b[0m \u001b[43m    \u001b[49m\u001b[43mmode\u001b[49m\u001b[43m,\u001b[49m\n\u001b[1;32m   1738\u001b[0m \u001b[43m    \u001b[49m\u001b[43mencoding\u001b[49m\u001b[38;5;241;43m=\u001b[39;49m\u001b[38;5;28;43mself\u001b[39;49m\u001b[38;5;241;43m.\u001b[39;49m\u001b[43moptions\u001b[49m\u001b[38;5;241;43m.\u001b[39;49m\u001b[43mget\u001b[49m\u001b[43m(\u001b[49m\u001b[38;5;124;43m\"\u001b[39;49m\u001b[38;5;124;43mencoding\u001b[39;49m\u001b[38;5;124;43m\"\u001b[39;49m\u001b[43m,\u001b[49m\u001b[43m \u001b[49m\u001b[38;5;28;43;01mNone\u001b[39;49;00m\u001b[43m)\u001b[49m\u001b[43m,\u001b[49m\n\u001b[1;32m   1739\u001b[0m \u001b[43m    \u001b[49m\u001b[43mcompression\u001b[49m\u001b[38;5;241;43m=\u001b[39;49m\u001b[38;5;28;43mself\u001b[39;49m\u001b[38;5;241;43m.\u001b[39;49m\u001b[43moptions\u001b[49m\u001b[38;5;241;43m.\u001b[39;49m\u001b[43mget\u001b[49m\u001b[43m(\u001b[49m\u001b[38;5;124;43m\"\u001b[39;49m\u001b[38;5;124;43mcompression\u001b[39;49m\u001b[38;5;124;43m\"\u001b[39;49m\u001b[43m,\u001b[49m\u001b[43m \u001b[49m\u001b[38;5;28;43;01mNone\u001b[39;49;00m\u001b[43m)\u001b[49m\u001b[43m,\u001b[49m\n\u001b[1;32m   1740\u001b[0m \u001b[43m    \u001b[49m\u001b[43mmemory_map\u001b[49m\u001b[38;5;241;43m=\u001b[39;49m\u001b[38;5;28;43mself\u001b[39;49m\u001b[38;5;241;43m.\u001b[39;49m\u001b[43moptions\u001b[49m\u001b[38;5;241;43m.\u001b[39;49m\u001b[43mget\u001b[49m\u001b[43m(\u001b[49m\u001b[38;5;124;43m\"\u001b[39;49m\u001b[38;5;124;43mmemory_map\u001b[39;49m\u001b[38;5;124;43m\"\u001b[39;49m\u001b[43m,\u001b[49m\u001b[43m \u001b[49m\u001b[38;5;28;43;01mFalse\u001b[39;49;00m\u001b[43m)\u001b[49m\u001b[43m,\u001b[49m\n\u001b[1;32m   1741\u001b[0m \u001b[43m    \u001b[49m\u001b[43mis_text\u001b[49m\u001b[38;5;241;43m=\u001b[39;49m\u001b[43mis_text\u001b[49m\u001b[43m,\u001b[49m\n\u001b[1;32m   1742\u001b[0m \u001b[43m    \u001b[49m\u001b[43merrors\u001b[49m\u001b[38;5;241;43m=\u001b[39;49m\u001b[38;5;28;43mself\u001b[39;49m\u001b[38;5;241;43m.\u001b[39;49m\u001b[43moptions\u001b[49m\u001b[38;5;241;43m.\u001b[39;49m\u001b[43mget\u001b[49m\u001b[43m(\u001b[49m\u001b[38;5;124;43m\"\u001b[39;49m\u001b[38;5;124;43mencoding_errors\u001b[39;49m\u001b[38;5;124;43m\"\u001b[39;49m\u001b[43m,\u001b[49m\u001b[43m \u001b[49m\u001b[38;5;124;43m\"\u001b[39;49m\u001b[38;5;124;43mstrict\u001b[39;49m\u001b[38;5;124;43m\"\u001b[39;49m\u001b[43m)\u001b[49m\u001b[43m,\u001b[49m\n\u001b[1;32m   1743\u001b[0m \u001b[43m    \u001b[49m\u001b[43mstorage_options\u001b[49m\u001b[38;5;241;43m=\u001b[39;49m\u001b[38;5;28;43mself\u001b[39;49m\u001b[38;5;241;43m.\u001b[39;49m\u001b[43moptions\u001b[49m\u001b[38;5;241;43m.\u001b[39;49m\u001b[43mget\u001b[49m\u001b[43m(\u001b[49m\u001b[38;5;124;43m\"\u001b[39;49m\u001b[38;5;124;43mstorage_options\u001b[39;49m\u001b[38;5;124;43m\"\u001b[39;49m\u001b[43m,\u001b[49m\u001b[43m \u001b[49m\u001b[38;5;28;43;01mNone\u001b[39;49;00m\u001b[43m)\u001b[49m\u001b[43m,\u001b[49m\n\u001b[1;32m   1744\u001b[0m \u001b[43m\u001b[49m\u001b[43m)\u001b[49m\n\u001b[1;32m   1745\u001b[0m \u001b[38;5;28;01massert\u001b[39;00m \u001b[38;5;28mself\u001b[39m\u001b[38;5;241m.\u001b[39mhandles \u001b[38;5;129;01mis\u001b[39;00m \u001b[38;5;129;01mnot\u001b[39;00m \u001b[38;5;28;01mNone\u001b[39;00m\n\u001b[1;32m   1746\u001b[0m f \u001b[38;5;241m=\u001b[39m \u001b[38;5;28mself\u001b[39m\u001b[38;5;241m.\u001b[39mhandles\u001b[38;5;241m.\u001b[39mhandle\n",
      "File \u001b[0;32m/opt/anaconda3/envs/pyclass/lib/python3.9/site-packages/pandas/io/common.py:856\u001b[0m, in \u001b[0;36mget_handle\u001b[0;34m(path_or_buf, mode, encoding, compression, memory_map, is_text, errors, storage_options)\u001b[0m\n\u001b[1;32m    851\u001b[0m \u001b[38;5;28;01melif\u001b[39;00m \u001b[38;5;28misinstance\u001b[39m(handle, \u001b[38;5;28mstr\u001b[39m):\n\u001b[1;32m    852\u001b[0m     \u001b[38;5;66;03m# Check whether the filename is to be opened in binary mode.\u001b[39;00m\n\u001b[1;32m    853\u001b[0m     \u001b[38;5;66;03m# Binary mode does not support 'encoding' and 'newline'.\u001b[39;00m\n\u001b[1;32m    854\u001b[0m     \u001b[38;5;28;01mif\u001b[39;00m ioargs\u001b[38;5;241m.\u001b[39mencoding \u001b[38;5;129;01mand\u001b[39;00m \u001b[38;5;124m\"\u001b[39m\u001b[38;5;124mb\u001b[39m\u001b[38;5;124m\"\u001b[39m \u001b[38;5;129;01mnot\u001b[39;00m \u001b[38;5;129;01min\u001b[39;00m ioargs\u001b[38;5;241m.\u001b[39mmode:\n\u001b[1;32m    855\u001b[0m         \u001b[38;5;66;03m# Encoding\u001b[39;00m\n\u001b[0;32m--> 856\u001b[0m         handle \u001b[38;5;241m=\u001b[39m \u001b[38;5;28;43mopen\u001b[39;49m\u001b[43m(\u001b[49m\n\u001b[1;32m    857\u001b[0m \u001b[43m            \u001b[49m\u001b[43mhandle\u001b[49m\u001b[43m,\u001b[49m\n\u001b[1;32m    858\u001b[0m \u001b[43m            \u001b[49m\u001b[43mioargs\u001b[49m\u001b[38;5;241;43m.\u001b[39;49m\u001b[43mmode\u001b[49m\u001b[43m,\u001b[49m\n\u001b[1;32m    859\u001b[0m \u001b[43m            \u001b[49m\u001b[43mencoding\u001b[49m\u001b[38;5;241;43m=\u001b[39;49m\u001b[43mioargs\u001b[49m\u001b[38;5;241;43m.\u001b[39;49m\u001b[43mencoding\u001b[49m\u001b[43m,\u001b[49m\n\u001b[1;32m    860\u001b[0m \u001b[43m            \u001b[49m\u001b[43merrors\u001b[49m\u001b[38;5;241;43m=\u001b[39;49m\u001b[43merrors\u001b[49m\u001b[43m,\u001b[49m\n\u001b[1;32m    861\u001b[0m \u001b[43m            \u001b[49m\u001b[43mnewline\u001b[49m\u001b[38;5;241;43m=\u001b[39;49m\u001b[38;5;124;43m\"\u001b[39;49m\u001b[38;5;124;43m\"\u001b[39;49m\u001b[43m,\u001b[49m\n\u001b[1;32m    862\u001b[0m \u001b[43m        \u001b[49m\u001b[43m)\u001b[49m\n\u001b[1;32m    863\u001b[0m     \u001b[38;5;28;01melse\u001b[39;00m:\n\u001b[1;32m    864\u001b[0m         \u001b[38;5;66;03m# Binary mode\u001b[39;00m\n\u001b[1;32m    865\u001b[0m         handle \u001b[38;5;241m=\u001b[39m \u001b[38;5;28mopen\u001b[39m(handle, ioargs\u001b[38;5;241m.\u001b[39mmode)\n",
      "\u001b[0;31mFileNotFoundError\u001b[0m: [Errno 2] No such file or directory: '/Users/nguyenhalinh/Desktop/Research/42101_county_dea.csv'"
     ]
    }
   ],
   "source": [
    "eff_df = pd.read_csv(\"/Users/nguyenhalinh/Desktop/Research/42101_county_dea.csv\")"
   ]
  },
  {
   "cell_type": "code",
   "execution_count": 90,
   "id": "2ed5bea2",
   "metadata": {},
   "outputs": [
    {
     "data": {
      "text/plain": [
       "(19975, 11)"
      ]
     },
     "execution_count": 90,
     "metadata": {},
     "output_type": "execute_result"
    }
   ],
   "source": [
    "eff_df.shape"
   ]
  },
  {
   "cell_type": "code",
   "execution_count": 92,
   "id": "b4a47641",
   "metadata": {
    "scrolled": true
   },
   "outputs": [
    {
     "data": {
      "text/plain": [
       "18006"
      ]
     },
     "execution_count": 92,
     "metadata": {},
     "output_type": "execute_result"
    }
   ],
   "source": [
    "19975-1823-95-48-2-1"
   ]
  },
  {
   "cell_type": "code",
   "execution_count": 93,
   "id": "3a164781",
   "metadata": {},
   "outputs": [
    {
     "data": {
      "text/plain": [
       "-1969"
      ]
     },
     "execution_count": 93,
     "metadata": {},
     "output_type": "execute_result"
    }
   ],
   "source": [
    "-1823-95-48-2-1"
   ]
  },
  {
   "cell_type": "code",
   "execution_count": 88,
   "id": "19620715",
   "metadata": {
    "scrolled": true
   },
   "outputs": [
    {
     "data": {
      "text/plain": [
       "0.400000    4036\n",
       "0.303030    3246\n",
       "1.000000    1823\n",
       "0.181818    1033\n",
       "0.227273     757\n",
       "0.232558     732\n",
       "0.238095     709\n",
       "0.243902     688\n",
       "0.263158     679\n",
       "0.250000     666\n",
       "0.256410     650\n",
       "0.270270     630\n",
       "0.277778     616\n",
       "0.222222     506\n",
       "0.204082     475\n",
       "0.166667     456\n",
       "0.208333     439\n",
       "0.212766     425\n",
       "0.217391     417\n",
       "0.400000     213\n",
       "0.303030     152\n",
       "0.400000     122\n",
       "1.000000      95\n",
       "0.227273      49\n",
       "1.000000      48\n",
       "0.270270      41\n",
       "0.243902      41\n",
       "0.250000      38\n",
       "0.238095      38\n",
       "0.212766      34\n",
       "0.263158      34\n",
       "0.277778      33\n",
       "0.222222      25\n",
       "0.217391      20\n",
       "0.303030       2\n",
       "1.000000       2\n",
       "0.243902       1\n",
       "0.181818       1\n",
       "0.277778       1\n",
       "1.000000       1\n",
       "0.400000       1\n",
       "Name: DEA, dtype: int64"
      ]
     },
     "execution_count": 88,
     "metadata": {},
     "output_type": "execute_result"
    }
   ],
   "source": [
    "eff_df['DEA'].value_counts()"
   ]
  },
  {
   "cell_type": "code",
   "execution_count": 33,
   "id": "e2bac0e2",
   "metadata": {},
   "outputs": [],
   "source": [
    "eff_df = eff_df.drop(eff_df.columns[0],axis=1)"
   ]
  },
  {
   "cell_type": "code",
   "execution_count": 34,
   "id": "475c1b26",
   "metadata": {},
   "outputs": [],
   "source": [
    "eff_df = eff_df.drop(eff_df.columns[5],axis=1)"
   ]
  },
  {
   "cell_type": "code",
   "execution_count": 35,
   "id": "226dc95b",
   "metadata": {
    "scrolled": true
   },
   "outputs": [
    {
     "data": {
      "text/html": [
       "<div>\n",
       "<style scoped>\n",
       "    .dataframe tbody tr th:only-of-type {\n",
       "        vertical-align: middle;\n",
       "    }\n",
       "\n",
       "    .dataframe tbody tr th {\n",
       "        vertical-align: top;\n",
       "    }\n",
       "\n",
       "    .dataframe thead th {\n",
       "        text-align: right;\n",
       "    }\n",
       "</style>\n",
       "<table border=\"1\" class=\"dataframe\">\n",
       "  <thead>\n",
       "    <tr style=\"text-align: right;\">\n",
       "      <th></th>\n",
       "      <th>loan_amount</th>\n",
       "      <th>property_value</th>\n",
       "      <th>income</th>\n",
       "      <th>debt_to_income_ratio</th>\n",
       "      <th>outcome</th>\n",
       "      <th>eff_loan_amount</th>\n",
       "      <th>eff_property_value</th>\n",
       "      <th>eff_income</th>\n",
       "      <th>eff_debt_to_income_ratio</th>\n",
       "    </tr>\n",
       "  </thead>\n",
       "  <tbody>\n",
       "    <tr>\n",
       "      <th>0</th>\n",
       "      <td>115.0</td>\n",
       "      <td>115.0</td>\n",
       "      <td>51.0</td>\n",
       "      <td>44.0</td>\n",
       "      <td>1.0</td>\n",
       "      <td>189.0</td>\n",
       "      <td>210.0</td>\n",
       "      <td>51.0</td>\n",
       "      <td>10.0</td>\n",
       "    </tr>\n",
       "    <tr>\n",
       "      <th>1</th>\n",
       "      <td>145.0</td>\n",
       "      <td>145.0</td>\n",
       "      <td>43.0</td>\n",
       "      <td>39.0</td>\n",
       "      <td>1.0</td>\n",
       "      <td>188.4</td>\n",
       "      <td>207.6</td>\n",
       "      <td>43.0</td>\n",
       "      <td>10.0</td>\n",
       "    </tr>\n",
       "    <tr>\n",
       "      <th>2</th>\n",
       "      <td>165.0</td>\n",
       "      <td>175.0</td>\n",
       "      <td>49.0</td>\n",
       "      <td>25.0</td>\n",
       "      <td>1.0</td>\n",
       "      <td>188.8</td>\n",
       "      <td>209.4</td>\n",
       "      <td>49.0</td>\n",
       "      <td>10.0</td>\n",
       "    </tr>\n",
       "    <tr>\n",
       "      <th>3</th>\n",
       "      <td>5.0</td>\n",
       "      <td>175.0</td>\n",
       "      <td>49.0</td>\n",
       "      <td>25.0</td>\n",
       "      <td>1.0</td>\n",
       "      <td>188.8</td>\n",
       "      <td>209.4</td>\n",
       "      <td>49.0</td>\n",
       "      <td>10.0</td>\n",
       "    </tr>\n",
       "    <tr>\n",
       "      <th>4</th>\n",
       "      <td>95.0</td>\n",
       "      <td>115.0</td>\n",
       "      <td>72.0</td>\n",
       "      <td>25.0</td>\n",
       "      <td>1.0</td>\n",
       "      <td>190.6</td>\n",
       "      <td>216.1</td>\n",
       "      <td>72.0</td>\n",
       "      <td>10.0</td>\n",
       "    </tr>\n",
       "    <tr>\n",
       "      <th>...</th>\n",
       "      <td>...</td>\n",
       "      <td>...</td>\n",
       "      <td>...</td>\n",
       "      <td>...</td>\n",
       "      <td>...</td>\n",
       "      <td>...</td>\n",
       "      <td>...</td>\n",
       "      <td>...</td>\n",
       "      <td>...</td>\n",
       "    </tr>\n",
       "    <tr>\n",
       "      <th>19970</th>\n",
       "      <td>5.0</td>\n",
       "      <td>85.0</td>\n",
       "      <td>46.0</td>\n",
       "      <td>42.0</td>\n",
       "      <td>1.0</td>\n",
       "      <td>188.6</td>\n",
       "      <td>208.5</td>\n",
       "      <td>46.0</td>\n",
       "      <td>10.0</td>\n",
       "    </tr>\n",
       "    <tr>\n",
       "      <th>19971</th>\n",
       "      <td>85.0</td>\n",
       "      <td>85.0</td>\n",
       "      <td>46.0</td>\n",
       "      <td>43.0</td>\n",
       "      <td>1.0</td>\n",
       "      <td>188.6</td>\n",
       "      <td>208.5</td>\n",
       "      <td>46.0</td>\n",
       "      <td>10.0</td>\n",
       "    </tr>\n",
       "    <tr>\n",
       "      <th>19972</th>\n",
       "      <td>525.0</td>\n",
       "      <td>555.0</td>\n",
       "      <td>227.0</td>\n",
       "      <td>25.0</td>\n",
       "      <td>1.0</td>\n",
       "      <td>525.0</td>\n",
       "      <td>706.4</td>\n",
       "      <td>589.4</td>\n",
       "      <td>10.0</td>\n",
       "    </tr>\n",
       "    <tr>\n",
       "      <th>19973</th>\n",
       "      <td>245.0</td>\n",
       "      <td>305.0</td>\n",
       "      <td>213.0</td>\n",
       "      <td>33.0</td>\n",
       "      <td>1.0</td>\n",
       "      <td>393.7</td>\n",
       "      <td>501.4</td>\n",
       "      <td>213.0</td>\n",
       "      <td>10.0</td>\n",
       "    </tr>\n",
       "    <tr>\n",
       "      <th>19974</th>\n",
       "      <td>405.0</td>\n",
       "      <td>405.0</td>\n",
       "      <td>65.0</td>\n",
       "      <td>49.0</td>\n",
       "      <td>1.0</td>\n",
       "      <td>405.0</td>\n",
       "      <td>477.1</td>\n",
       "      <td>141.6</td>\n",
       "      <td>10.0</td>\n",
       "    </tr>\n",
       "  </tbody>\n",
       "</table>\n",
       "<p>19975 rows × 9 columns</p>\n",
       "</div>"
      ],
      "text/plain": [
       "       loan_amount  property_value  income  debt_to_income_ratio  outcome  \\\n",
       "0            115.0           115.0    51.0                  44.0      1.0   \n",
       "1            145.0           145.0    43.0                  39.0      1.0   \n",
       "2            165.0           175.0    49.0                  25.0      1.0   \n",
       "3              5.0           175.0    49.0                  25.0      1.0   \n",
       "4             95.0           115.0    72.0                  25.0      1.0   \n",
       "...            ...             ...     ...                   ...      ...   \n",
       "19970          5.0            85.0    46.0                  42.0      1.0   \n",
       "19971         85.0            85.0    46.0                  43.0      1.0   \n",
       "19972        525.0           555.0   227.0                  25.0      1.0   \n",
       "19973        245.0           305.0   213.0                  33.0      1.0   \n",
       "19974        405.0           405.0    65.0                  49.0      1.0   \n",
       "\n",
       "       eff_loan_amount  eff_property_value  eff_income  \\\n",
       "0                189.0               210.0        51.0   \n",
       "1                188.4               207.6        43.0   \n",
       "2                188.8               209.4        49.0   \n",
       "3                188.8               209.4        49.0   \n",
       "4                190.6               216.1        72.0   \n",
       "...                ...                 ...         ...   \n",
       "19970            188.6               208.5        46.0   \n",
       "19971            188.6               208.5        46.0   \n",
       "19972            525.0               706.4       589.4   \n",
       "19973            393.7               501.4       213.0   \n",
       "19974            405.0               477.1       141.6   \n",
       "\n",
       "       eff_debt_to_income_ratio  \n",
       "0                          10.0  \n",
       "1                          10.0  \n",
       "2                          10.0  \n",
       "3                          10.0  \n",
       "4                          10.0  \n",
       "...                         ...  \n",
       "19970                      10.0  \n",
       "19971                      10.0  \n",
       "19972                      10.0  \n",
       "19973                      10.0  \n",
       "19974                      10.0  \n",
       "\n",
       "[19975 rows x 9 columns]"
      ]
     },
     "execution_count": 35,
     "metadata": {},
     "output_type": "execute_result"
    }
   ],
   "source": [
    "eff_df"
   ]
  },
  {
   "cell_type": "code",
   "execution_count": null,
   "id": "cb8073fe",
   "metadata": {},
   "outputs": [],
   "source": []
  },
  {
   "cell_type": "code",
   "execution_count": 36,
   "id": "002acecc",
   "metadata": {},
   "outputs": [],
   "source": [
    "original_df = eff_df[eff_df.columns[:5]]"
   ]
  },
  {
   "cell_type": "code",
   "execution_count": 37,
   "id": "12ef5fa2",
   "metadata": {
    "scrolled": false
   },
   "outputs": [
    {
     "data": {
      "text/html": [
       "<div>\n",
       "<style scoped>\n",
       "    .dataframe tbody tr th:only-of-type {\n",
       "        vertical-align: middle;\n",
       "    }\n",
       "\n",
       "    .dataframe tbody tr th {\n",
       "        vertical-align: top;\n",
       "    }\n",
       "\n",
       "    .dataframe thead th {\n",
       "        text-align: right;\n",
       "    }\n",
       "</style>\n",
       "<table border=\"1\" class=\"dataframe\">\n",
       "  <thead>\n",
       "    <tr style=\"text-align: right;\">\n",
       "      <th></th>\n",
       "      <th>loan_amount</th>\n",
       "      <th>property_value</th>\n",
       "      <th>income</th>\n",
       "      <th>debt_to_income_ratio</th>\n",
       "      <th>outcome</th>\n",
       "    </tr>\n",
       "  </thead>\n",
       "  <tbody>\n",
       "    <tr>\n",
       "      <th>0</th>\n",
       "      <td>115.0</td>\n",
       "      <td>115.0</td>\n",
       "      <td>51.0</td>\n",
       "      <td>44.0</td>\n",
       "      <td>1.0</td>\n",
       "    </tr>\n",
       "    <tr>\n",
       "      <th>1</th>\n",
       "      <td>145.0</td>\n",
       "      <td>145.0</td>\n",
       "      <td>43.0</td>\n",
       "      <td>39.0</td>\n",
       "      <td>1.0</td>\n",
       "    </tr>\n",
       "    <tr>\n",
       "      <th>2</th>\n",
       "      <td>165.0</td>\n",
       "      <td>175.0</td>\n",
       "      <td>49.0</td>\n",
       "      <td>25.0</td>\n",
       "      <td>1.0</td>\n",
       "    </tr>\n",
       "    <tr>\n",
       "      <th>3</th>\n",
       "      <td>5.0</td>\n",
       "      <td>175.0</td>\n",
       "      <td>49.0</td>\n",
       "      <td>25.0</td>\n",
       "      <td>1.0</td>\n",
       "    </tr>\n",
       "    <tr>\n",
       "      <th>4</th>\n",
       "      <td>95.0</td>\n",
       "      <td>115.0</td>\n",
       "      <td>72.0</td>\n",
       "      <td>25.0</td>\n",
       "      <td>1.0</td>\n",
       "    </tr>\n",
       "    <tr>\n",
       "      <th>...</th>\n",
       "      <td>...</td>\n",
       "      <td>...</td>\n",
       "      <td>...</td>\n",
       "      <td>...</td>\n",
       "      <td>...</td>\n",
       "    </tr>\n",
       "    <tr>\n",
       "      <th>19970</th>\n",
       "      <td>5.0</td>\n",
       "      <td>85.0</td>\n",
       "      <td>46.0</td>\n",
       "      <td>42.0</td>\n",
       "      <td>1.0</td>\n",
       "    </tr>\n",
       "    <tr>\n",
       "      <th>19971</th>\n",
       "      <td>85.0</td>\n",
       "      <td>85.0</td>\n",
       "      <td>46.0</td>\n",
       "      <td>43.0</td>\n",
       "      <td>1.0</td>\n",
       "    </tr>\n",
       "    <tr>\n",
       "      <th>19972</th>\n",
       "      <td>525.0</td>\n",
       "      <td>555.0</td>\n",
       "      <td>227.0</td>\n",
       "      <td>25.0</td>\n",
       "      <td>1.0</td>\n",
       "    </tr>\n",
       "    <tr>\n",
       "      <th>19973</th>\n",
       "      <td>245.0</td>\n",
       "      <td>305.0</td>\n",
       "      <td>213.0</td>\n",
       "      <td>33.0</td>\n",
       "      <td>1.0</td>\n",
       "    </tr>\n",
       "    <tr>\n",
       "      <th>19974</th>\n",
       "      <td>405.0</td>\n",
       "      <td>405.0</td>\n",
       "      <td>65.0</td>\n",
       "      <td>49.0</td>\n",
       "      <td>1.0</td>\n",
       "    </tr>\n",
       "  </tbody>\n",
       "</table>\n",
       "<p>19975 rows × 5 columns</p>\n",
       "</div>"
      ],
      "text/plain": [
       "       loan_amount  property_value  income  debt_to_income_ratio  outcome\n",
       "0            115.0           115.0    51.0                  44.0      1.0\n",
       "1            145.0           145.0    43.0                  39.0      1.0\n",
       "2            165.0           175.0    49.0                  25.0      1.0\n",
       "3              5.0           175.0    49.0                  25.0      1.0\n",
       "4             95.0           115.0    72.0                  25.0      1.0\n",
       "...            ...             ...     ...                   ...      ...\n",
       "19970          5.0            85.0    46.0                  42.0      1.0\n",
       "19971         85.0            85.0    46.0                  43.0      1.0\n",
       "19972        525.0           555.0   227.0                  25.0      1.0\n",
       "19973        245.0           305.0   213.0                  33.0      1.0\n",
       "19974        405.0           405.0    65.0                  49.0      1.0\n",
       "\n",
       "[19975 rows x 5 columns]"
      ]
     },
     "execution_count": 37,
     "metadata": {},
     "output_type": "execute_result"
    }
   ],
   "source": [
    "original_df"
   ]
  },
  {
   "cell_type": "markdown",
   "id": "c2326114",
   "metadata": {},
   "source": [
    "## Model"
   ]
  },
  {
   "cell_type": "code",
   "execution_count": 38,
   "id": "1cd4c1c9",
   "metadata": {},
   "outputs": [],
   "source": [
    "X = original_df.drop(['outcome'], axis=1)\n",
    "\n",
    "y = original_df['outcome']"
   ]
  },
  {
   "cell_type": "code",
   "execution_count": 39,
   "id": "2f7489c5",
   "metadata": {},
   "outputs": [],
   "source": [
    "# split X and y into training and testing sets\n",
    "\n",
    "from sklearn.model_selection import train_test_split\n",
    "\n",
    "X_train, X_test, y_train, y_test = train_test_split(X, y, test_size = 0.4, random_state = 0)"
   ]
  },
  {
   "cell_type": "code",
   "execution_count": 40,
   "id": "fd40359c",
   "metadata": {},
   "outputs": [
    {
     "data": {
      "text/plain": [
       "((11985, 4), (7990, 4))"
      ]
     },
     "execution_count": 40,
     "metadata": {},
     "output_type": "execute_result"
    }
   ],
   "source": [
    "# check the shape of X_train and X_test\n",
    "\n",
    "X_train.shape, X_test.shape"
   ]
  },
  {
   "cell_type": "code",
   "execution_count": 41,
   "id": "1f7df6ee",
   "metadata": {},
   "outputs": [],
   "source": [
    "from sklearn.preprocessing import MinMaxScaler\n",
    "\n",
    "scaler = MinMaxScaler()\n",
    "\n",
    "scaledX_train = scaler.fit_transform(X_train)\n",
    "\n",
    "scaledX_test = scaler.transform(X_test)"
   ]
  },
  {
   "cell_type": "code",
   "execution_count": 42,
   "id": "e3fc00d3",
   "metadata": {},
   "outputs": [],
   "source": [
    "cols = X_train.columns"
   ]
  },
  {
   "cell_type": "code",
   "execution_count": 43,
   "id": "52019ab1",
   "metadata": {},
   "outputs": [],
   "source": [
    "scaledX_train = pd.DataFrame(scaledX_train, columns=[cols])"
   ]
  },
  {
   "cell_type": "code",
   "execution_count": 44,
   "id": "93d242c6",
   "metadata": {},
   "outputs": [],
   "source": [
    "scaledX_test = pd.DataFrame(scaledX_test, columns=[cols])"
   ]
  },
  {
   "cell_type": "code",
   "execution_count": 78,
   "id": "edb8c2c8",
   "metadata": {},
   "outputs": [
    {
     "name": "stdout",
     "output_type": "stream",
     "text": [
      "\n",
      "******** For PROB = 0.05 ******\n",
      "Our testing accuracy is 0.907133917396746\n",
      "[[   0  742]\n",
      " [   0 7248]]\n",
      "\n",
      "******** For PROB = 0.1 ******\n",
      "Our testing accuracy is 0.907133917396746\n",
      "[[   0  742]\n",
      " [   0 7248]]\n",
      "\n",
      "******** For PROB = 0.15 ******\n",
      "Our testing accuracy is 0.907133917396746\n",
      "[[   0  742]\n",
      " [   0 7248]]\n",
      "\n",
      "******** For PROB = 0.2 ******\n",
      "Our testing accuracy is 0.907133917396746\n",
      "[[   0  742]\n",
      " [   0 7248]]\n",
      "\n",
      "******** For PROB = 0.25 ******\n",
      "Our testing accuracy is 0.907133917396746\n",
      "[[   0  742]\n",
      " [   0 7248]]\n",
      "\n",
      "******** For PROB = 0.3 ******\n",
      "Our testing accuracy is 0.907133917396746\n",
      "[[   0  742]\n",
      " [   0 7248]]\n",
      "\n",
      "******** For PROB = 0.35 ******\n",
      "Our testing accuracy is 0.907133917396746\n",
      "[[   0  742]\n",
      " [   0 7248]]\n",
      "\n",
      "******** For PROB = 0.4 ******\n",
      "Our testing accuracy is 0.907133917396746\n",
      "[[   0  742]\n",
      " [   0 7248]]\n",
      "\n",
      "******** For PROB = 0.45 ******\n",
      "Our testing accuracy is 0.907133917396746\n",
      "[[   0  742]\n",
      " [   0 7248]]\n",
      "\n",
      "******** For PROB = 0.5 ******\n",
      "Our testing accuracy is 0.907133917396746\n",
      "[[   0  742]\n",
      " [   0 7248]]\n",
      "\n",
      "******** For PROB = 0.55 ******\n",
      "Our testing accuracy is 0.907133917396746\n",
      "[[   0  742]\n",
      " [   0 7248]]\n",
      "\n",
      "******** For PROB = 0.6 ******\n",
      "Our testing accuracy is 0.907133917396746\n",
      "[[   0  742]\n",
      " [   0 7248]]\n",
      "\n",
      "******** For PROB = 0.65 ******\n",
      "Our testing accuracy is 0.9081351689612015\n",
      "[[   8  734]\n",
      " [   0 7248]]\n",
      "\n",
      "******** For PROB = 0.7 ******\n",
      "Our testing accuracy is 0.9197747183979975\n",
      "[[ 103  639]\n",
      " [   2 7246]]\n",
      "\n",
      "******** For PROB = 0.75 ******\n",
      "Our testing accuracy is 0.9181476846057572\n",
      "[[ 193  549]\n",
      " [ 105 7143]]\n",
      "\n",
      "******** For PROB = 0.8 ******\n",
      "Our testing accuracy is 0.8949937421777222\n",
      "[[ 251  491]\n",
      " [ 348 6900]]\n",
      "\n",
      "******** For PROB = 0.85 ******\n",
      "Our testing accuracy is 0.8257822277847309\n",
      "[[ 334  408]\n",
      " [ 984 6264]]\n",
      "\n",
      "******** For PROB = 0.9 ******\n",
      "Our testing accuracy is 0.6183979974968711\n",
      "[[ 457  285]\n",
      " [2764 4484]]\n",
      "\n",
      "******** For PROB = 0.95 ******\n",
      "Our testing accuracy is 0.32340425531914896\n",
      "[[ 641  101]\n",
      " [5305 1943]]\n",
      "\n",
      "******** For PROB = 0.99 ******\n",
      "Our testing accuracy is 0.09874843554443054\n",
      "[[ 739    3]\n",
      " [7198   50]]\n"
     ]
    }
   ],
   "source": [
    "model = LogisticRegression(solver='liblinear', random_state=0)\n",
    "model.fit(scaledX_train,y_train)\n",
    "y_pred_test = model.predict(scaledX_test)\n",
    "pred_proba_df = pd.DataFrame(model.predict_proba(scaledX_test))\n",
    "\n",
    "threshold_list = [0.05,0.1,0.15,0.2,0.25,0.3,0.35,0.4,0.45,0.5,0.55,0.6,0.65,.7,.75,.8,.85,.9,.95,.99]\n",
    "for i in threshold_list:\n",
    "    print ('\\n******** For PROB = {} ******'.format(i))\n",
    "    Y_test_pred = pred_proba_df.applymap(lambda x: 1 if x>i else 0)\n",
    "    test_accuracy = accuracy_score(y_test, Y_test_pred[Y_test_pred.columns[1:]])\n",
    "    print('Our testing accuracy is {}'.format(test_accuracy))\n",
    "    print(confusion_matrix(y_test,Y_test_pred[Y_test_pred.columns[1:]]))"
   ]
  },
  {
   "cell_type": "code",
   "execution_count": 76,
   "id": "de7aec91",
   "metadata": {
    "scrolled": true
   },
   "outputs": [
    {
     "name": "stdout",
     "output_type": "stream",
     "text": [
      "Confusion matrix\n",
      "\n",
      " [[   0  742]\n",
      " [   0 7248]]\n",
      "\n",
      "True Positives(TP) =  0\n",
      "\n",
      "True Negatives(TN) =  7248\n",
      "\n",
      "False Positives(FP) =  742\n",
      "\n",
      "False Negatives(FN) =  0\n"
     ]
    }
   ],
   "source": [
    "cm = confusion_matrix(y_test, y_pred_test)\n",
    "\n",
    "print('Confusion matrix\\n\\n', cm)\n",
    "\n",
    "print('\\nTrue Positives(TP) = ', cm[0,0])\n",
    "\n",
    "print('\\nTrue Negatives(TN) = ', cm[1,1])\n",
    "\n",
    "print('\\nFalse Positives(FP) = ', cm[0,1])\n",
    "\n",
    "print('\\nFalse Negatives(FN) = ', cm[1,0])"
   ]
  },
  {
   "cell_type": "markdown",
   "id": "1e5c9f41",
   "metadata": {},
   "source": [
    "## New Model"
   ]
  },
  {
   "cell_type": "code",
   "execution_count": 50,
   "id": "99b5af1b",
   "metadata": {},
   "outputs": [],
   "source": [
    "new_df = eff_df[eff_df.columns[4:]]"
   ]
  },
  {
   "cell_type": "code",
   "execution_count": 53,
   "id": "63f68979",
   "metadata": {},
   "outputs": [
    {
     "name": "stderr",
     "output_type": "stream",
     "text": [
      "/var/folders/vf/c31mrqv54zg80c74f5bw2__c0000gn/T/ipykernel_49524/2679644354.py:2: SettingWithCopyWarning: \n",
      "A value is trying to be set on a copy of a slice from a DataFrame\n",
      "\n",
      "See the caveats in the documentation: https://pandas.pydata.org/pandas-docs/stable/user_guide/indexing.html#returning-a-view-versus-a-copy\n",
      "  new_df.rename(\n"
     ]
    }
   ],
   "source": [
    "#Rename columns\n",
    "new_df.rename(\n",
    "    columns={\"eff_loan_amount\": \"loan_amount\", \"eff_property_value\": \"property_value\", \"eff_income\": \"income\", \"eff_debt_to_income_ratio\":'debt_to_income_ratio'},\n",
    "    inplace=True,)\n",
    "new_df = new_df[new_df['outcome']==0]"
   ]
  },
  {
   "cell_type": "code",
   "execution_count": 54,
   "id": "97e0c9ba",
   "metadata": {
    "scrolled": true
   },
   "outputs": [
    {
     "data": {
      "text/html": [
       "<div>\n",
       "<style scoped>\n",
       "    .dataframe tbody tr th:only-of-type {\n",
       "        vertical-align: middle;\n",
       "    }\n",
       "\n",
       "    .dataframe tbody tr th {\n",
       "        vertical-align: top;\n",
       "    }\n",
       "\n",
       "    .dataframe thead th {\n",
       "        text-align: right;\n",
       "    }\n",
       "</style>\n",
       "<table border=\"1\" class=\"dataframe\">\n",
       "  <thead>\n",
       "    <tr style=\"text-align: right;\">\n",
       "      <th></th>\n",
       "      <th>outcome</th>\n",
       "      <th>loan_amount</th>\n",
       "      <th>property_value</th>\n",
       "      <th>income</th>\n",
       "      <th>debt_to_income_ratio</th>\n",
       "    </tr>\n",
       "  </thead>\n",
       "  <tbody>\n",
       "    <tr>\n",
       "      <th>9</th>\n",
       "      <td>0.0</td>\n",
       "      <td>285.0</td>\n",
       "      <td>417.3</td>\n",
       "      <td>526.7</td>\n",
       "      <td>10.0</td>\n",
       "    </tr>\n",
       "    <tr>\n",
       "      <th>17</th>\n",
       "      <td>0.0</td>\n",
       "      <td>335.0</td>\n",
       "      <td>477.5</td>\n",
       "      <td>539.8</td>\n",
       "      <td>10.0</td>\n",
       "    </tr>\n",
       "    <tr>\n",
       "      <th>27</th>\n",
       "      <td>0.0</td>\n",
       "      <td>192.7</td>\n",
       "      <td>224.1</td>\n",
       "      <td>99.0</td>\n",
       "      <td>10.0</td>\n",
       "    </tr>\n",
       "    <tr>\n",
       "      <th>51</th>\n",
       "      <td>0.0</td>\n",
       "      <td>192.4</td>\n",
       "      <td>222.9</td>\n",
       "      <td>95.0</td>\n",
       "      <td>10.0</td>\n",
       "    </tr>\n",
       "    <tr>\n",
       "      <th>75</th>\n",
       "      <td>0.0</td>\n",
       "      <td>265.0</td>\n",
       "      <td>393.2</td>\n",
       "      <td>521.5</td>\n",
       "      <td>10.0</td>\n",
       "    </tr>\n",
       "    <tr>\n",
       "      <th>...</th>\n",
       "      <td>...</td>\n",
       "      <td>...</td>\n",
       "      <td>...</td>\n",
       "      <td>...</td>\n",
       "      <td>...</td>\n",
       "    </tr>\n",
       "    <tr>\n",
       "      <th>19906</th>\n",
       "      <td>0.0</td>\n",
       "      <td>188.9</td>\n",
       "      <td>209.7</td>\n",
       "      <td>50.0</td>\n",
       "      <td>10.0</td>\n",
       "    </tr>\n",
       "    <tr>\n",
       "      <th>19908</th>\n",
       "      <td>0.0</td>\n",
       "      <td>190.1</td>\n",
       "      <td>214.1</td>\n",
       "      <td>65.0</td>\n",
       "      <td>10.0</td>\n",
       "    </tr>\n",
       "    <tr>\n",
       "      <th>19909</th>\n",
       "      <td>0.0</td>\n",
       "      <td>191.1</td>\n",
       "      <td>217.9</td>\n",
       "      <td>78.0</td>\n",
       "      <td>10.0</td>\n",
       "    </tr>\n",
       "    <tr>\n",
       "      <th>19923</th>\n",
       "      <td>0.0</td>\n",
       "      <td>275.0</td>\n",
       "      <td>345.0</td>\n",
       "      <td>163.0</td>\n",
       "      <td>10.0</td>\n",
       "    </tr>\n",
       "    <tr>\n",
       "      <th>19958</th>\n",
       "      <td>0.0</td>\n",
       "      <td>188.7</td>\n",
       "      <td>208.8</td>\n",
       "      <td>47.0</td>\n",
       "      <td>10.0</td>\n",
       "    </tr>\n",
       "  </tbody>\n",
       "</table>\n",
       "<p>1897 rows × 5 columns</p>\n",
       "</div>"
      ],
      "text/plain": [
       "       outcome  loan_amount  property_value  income  debt_to_income_ratio\n",
       "9          0.0        285.0           417.3   526.7                  10.0\n",
       "17         0.0        335.0           477.5   539.8                  10.0\n",
       "27         0.0        192.7           224.1    99.0                  10.0\n",
       "51         0.0        192.4           222.9    95.0                  10.0\n",
       "75         0.0        265.0           393.2   521.5                  10.0\n",
       "...        ...          ...             ...     ...                   ...\n",
       "19906      0.0        188.9           209.7    50.0                  10.0\n",
       "19908      0.0        190.1           214.1    65.0                  10.0\n",
       "19909      0.0        191.1           217.9    78.0                  10.0\n",
       "19923      0.0        275.0           345.0   163.0                  10.0\n",
       "19958      0.0        188.7           208.8    47.0                  10.0\n",
       "\n",
       "[1897 rows x 5 columns]"
      ]
     },
     "execution_count": 54,
     "metadata": {},
     "output_type": "execute_result"
    }
   ],
   "source": [
    "new_df"
   ]
  },
  {
   "cell_type": "code",
   "execution_count": 55,
   "id": "d53da28f",
   "metadata": {},
   "outputs": [],
   "source": [
    "newX_test = new_df.drop(['outcome'], axis=1)\n",
    "newy_test = new_df['outcome']"
   ]
  },
  {
   "cell_type": "code",
   "execution_count": 56,
   "id": "1ba98869",
   "metadata": {},
   "outputs": [],
   "source": [
    "new_scaledX_test = scaler.transform(newX_test)"
   ]
  },
  {
   "cell_type": "code",
   "execution_count": 57,
   "id": "e29cfec5",
   "metadata": {},
   "outputs": [],
   "source": [
    "new_scaledX_test = pd.DataFrame(new_scaledX_test, columns=[cols])"
   ]
  },
  {
   "cell_type": "code",
   "execution_count": 83,
   "id": "b28837e9",
   "metadata": {},
   "outputs": [
    {
     "name": "stdout",
     "output_type": "stream",
     "text": [
      "\n",
      "******** For PROB = 0.75 ******\n",
      "Our testing accuracy is 0.0\n",
      "[[   0 1897]\n",
      " [   0    0]]\n"
     ]
    }
   ],
   "source": [
    "PROB = 0.75\n",
    "new_y_pred_test = model.predict(new_scaledX_test)\n",
    "new_pred_proba_df = pd.DataFrame(model.predict_proba(new_scaledX_test))\n",
    "\n",
    "print ('\\n******** For PROB = {} ******'.format(PROB))\n",
    "new_Y_test_pred = new_pred_proba_df.applymap(lambda x: 1 if x>PROB else 0)\n",
    "test_accuracy = accuracy_score(newy_test, new_Y_test_pred[new_Y_test_pred.columns[1:]])\n",
    "print('Our testing accuracy is {}'.format(test_accuracy))\n",
    "print(confusion_matrix(newy_test,new_Y_test_pred[new_Y_test_pred.columns[1:]]))"
   ]
  },
  {
   "cell_type": "code",
   "execution_count": 84,
   "id": "1188cb11",
   "metadata": {},
   "outputs": [
    {
     "name": "stdout",
     "output_type": "stream",
     "text": [
      "Confusion matrix\n",
      "\n",
      " [[   0 1897]\n",
      " [   0    0]]\n",
      "\n",
      "True Positives(TP) =  0\n",
      "\n",
      "True Negatives(TN) =  0\n",
      "\n",
      "False Positives(FP) =  1897\n",
      "\n",
      "False Negatives(FN) =  0\n"
     ]
    }
   ],
   "source": [
    "cm = confusion_matrix(newy_test, new_y_pred_test)\n",
    "\n",
    "print('Confusion matrix\\n\\n', cm)\n",
    "\n",
    "print('\\nTrue Positives(TP) = ', cm[0,0])\n",
    "\n",
    "print('\\nTrue Negatives(TN) = ', cm[1,1])\n",
    "\n",
    "print('\\nFalse Positives(FP) = ', cm[0,1])\n",
    "\n",
    "print('\\nFalse Negatives(FN) = ', cm[1,0])"
   ]
  },
  {
   "cell_type": "code",
   "execution_count": 82,
   "id": "c8db6265",
   "metadata": {
    "scrolled": true
   },
   "outputs": [
    {
     "data": {
      "text/html": [
       "<div>\n",
       "<style scoped>\n",
       "    .dataframe tbody tr th:only-of-type {\n",
       "        vertical-align: middle;\n",
       "    }\n",
       "\n",
       "    .dataframe tbody tr th {\n",
       "        vertical-align: top;\n",
       "    }\n",
       "\n",
       "    .dataframe thead th {\n",
       "        text-align: right;\n",
       "    }\n",
       "</style>\n",
       "<table border=\"1\" class=\"dataframe\">\n",
       "  <thead>\n",
       "    <tr style=\"text-align: right;\">\n",
       "      <th></th>\n",
       "      <th>0</th>\n",
       "      <th>1</th>\n",
       "    </tr>\n",
       "  </thead>\n",
       "  <tbody>\n",
       "    <tr>\n",
       "      <th>0</th>\n",
       "      <td>0.017562</td>\n",
       "      <td>0.982438</td>\n",
       "    </tr>\n",
       "    <tr>\n",
       "      <th>1</th>\n",
       "      <td>0.016198</td>\n",
       "      <td>0.983802</td>\n",
       "    </tr>\n",
       "    <tr>\n",
       "      <th>2</th>\n",
       "      <td>0.022044</td>\n",
       "      <td>0.977956</td>\n",
       "    </tr>\n",
       "    <tr>\n",
       "      <th>3</th>\n",
       "      <td>0.022071</td>\n",
       "      <td>0.977929</td>\n",
       "    </tr>\n",
       "    <tr>\n",
       "      <th>4</th>\n",
       "      <td>0.018139</td>\n",
       "      <td>0.981861</td>\n",
       "    </tr>\n",
       "    <tr>\n",
       "      <th>...</th>\n",
       "      <td>...</td>\n",
       "      <td>...</td>\n",
       "    </tr>\n",
       "    <tr>\n",
       "      <th>1892</th>\n",
       "      <td>0.022386</td>\n",
       "      <td>0.977614</td>\n",
       "    </tr>\n",
       "    <tr>\n",
       "      <th>1893</th>\n",
       "      <td>0.022280</td>\n",
       "      <td>0.977720</td>\n",
       "    </tr>\n",
       "    <tr>\n",
       "      <th>1894</th>\n",
       "      <td>0.022189</td>\n",
       "      <td>0.977811</td>\n",
       "    </tr>\n",
       "    <tr>\n",
       "      <th>1895</th>\n",
       "      <td>0.019099</td>\n",
       "      <td>0.980901</td>\n",
       "    </tr>\n",
       "    <tr>\n",
       "      <th>1896</th>\n",
       "      <td>0.022407</td>\n",
       "      <td>0.977593</td>\n",
       "    </tr>\n",
       "  </tbody>\n",
       "</table>\n",
       "<p>1897 rows × 2 columns</p>\n",
       "</div>"
      ],
      "text/plain": [
       "             0         1\n",
       "0     0.017562  0.982438\n",
       "1     0.016198  0.983802\n",
       "2     0.022044  0.977956\n",
       "3     0.022071  0.977929\n",
       "4     0.018139  0.981861\n",
       "...        ...       ...\n",
       "1892  0.022386  0.977614\n",
       "1893  0.022280  0.977720\n",
       "1894  0.022189  0.977811\n",
       "1895  0.019099  0.980901\n",
       "1896  0.022407  0.977593\n",
       "\n",
       "[1897 rows x 2 columns]"
      ]
     },
     "execution_count": 82,
     "metadata": {},
     "output_type": "execute_result"
    }
   ],
   "source": [
    "new_pred_proba_df"
   ]
  },
  {
   "cell_type": "code",
   "execution_count": null,
   "id": "9721f9ae",
   "metadata": {},
   "outputs": [],
   "source": []
  }
 ],
 "metadata": {
  "kernelspec": {
   "display_name": "Python 3 (ipykernel)",
   "language": "python",
   "name": "python3"
  },
  "language_info": {
   "codemirror_mode": {
    "name": "ipython",
    "version": 3
   },
   "file_extension": ".py",
   "mimetype": "text/x-python",
   "name": "python",
   "nbconvert_exporter": "python",
   "pygments_lexer": "ipython3",
   "version": "3.9.12"
  }
 },
 "nbformat": 4,
 "nbformat_minor": 5
}
