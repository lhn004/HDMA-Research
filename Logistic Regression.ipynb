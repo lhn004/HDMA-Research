{
 "cells": [
  {
   "cell_type": "markdown",
   "id": "75b79501",
   "metadata": {},
   "source": [
    "# Overview"
   ]
  },
  {
   "cell_type": "markdown",
   "id": "a627ee79",
   "metadata": {},
   "source": [
    "In this notebook, I will train logistic regression model using original data (not applied DEA) for Philly county\n",
    "and will use data for rejected applications only after applying DEA to retest the model. We should expect that the model will predict all these previously rejected applications to be accepted"
   ]
  },
  {
   "cell_type": "markdown",
   "id": "0298f044",
   "metadata": {},
   "source": [
    "# Data Loading"
   ]
  },
  {
   "cell_type": "code",
   "execution_count": 54,
   "id": "5ee99f1e",
   "metadata": {},
   "outputs": [],
   "source": [
    "import pandas as pd\n",
    "import numpy as np\n",
    "import matplotlib.pyplot as plt # data visualization\n",
    "import seaborn as sns # statistical data visualization\n",
    "%matplotlib inline"
   ]
  },
  {
   "cell_type": "code",
   "execution_count": 2,
   "id": "a3b0d534",
   "metadata": {},
   "outputs": [
    {
     "name": "stderr",
     "output_type": "stream",
     "text": [
      "/var/folders/vf/c31mrqv54zg80c74f5bw2__c0000gn/T/ipykernel_50068/2977462316.py:1: DtypeWarning: Columns (22,23,24,26,27,28,29,30,31,32,33,38,43,44) have mixed types. Specify dtype option on import or set low_memory=False.\n",
      "  df = pd.read_csv('/Users/nguyenhalinh/Desktop/Research/dataset.csv')\n"
     ]
    },
    {
     "data": {
      "text/html": [
       "<div>\n",
       "<style scoped>\n",
       "    .dataframe tbody tr th:only-of-type {\n",
       "        vertical-align: middle;\n",
       "    }\n",
       "\n",
       "    .dataframe tbody tr th {\n",
       "        vertical-align: top;\n",
       "    }\n",
       "\n",
       "    .dataframe thead th {\n",
       "        text-align: right;\n",
       "    }\n",
       "</style>\n",
       "<table border=\"1\" class=\"dataframe\">\n",
       "  <thead>\n",
       "    <tr style=\"text-align: right;\">\n",
       "      <th></th>\n",
       "      <th>activity_year</th>\n",
       "      <th>lei</th>\n",
       "      <th>derived_msa-md</th>\n",
       "      <th>state_code</th>\n",
       "      <th>county_code</th>\n",
       "      <th>census_tract</th>\n",
       "      <th>conforming_loan_limit</th>\n",
       "      <th>derived_loan_product_type</th>\n",
       "      <th>derived_dwelling_category</th>\n",
       "      <th>derived_ethnicity</th>\n",
       "      <th>...</th>\n",
       "      <th>denial_reason-2</th>\n",
       "      <th>denial_reason-3</th>\n",
       "      <th>denial_reason-4</th>\n",
       "      <th>tract_population</th>\n",
       "      <th>tract_minority_population_percent</th>\n",
       "      <th>ffiec_msa_md_median_family_income</th>\n",
       "      <th>tract_to_msa_income_percentage</th>\n",
       "      <th>tract_owner_occupied_units</th>\n",
       "      <th>tract_one_to_four_family_homes</th>\n",
       "      <th>tract_median_age_of_housing_units</th>\n",
       "    </tr>\n",
       "  </thead>\n",
       "  <tbody>\n",
       "    <tr>\n",
       "      <th>0</th>\n",
       "      <td>2021</td>\n",
       "      <td>54930034MNPILHP25H80</td>\n",
       "      <td>14100</td>\n",
       "      <td>PA</td>\n",
       "      <td>42093.0</td>\n",
       "      <td>4.209305e+10</td>\n",
       "      <td>C</td>\n",
       "      <td>Conventional:First Lien</td>\n",
       "      <td>Single Family (1-4 Units):Site-Built</td>\n",
       "      <td>Not Hispanic or Latino</td>\n",
       "      <td>...</td>\n",
       "      <td>NaN</td>\n",
       "      <td>NaN</td>\n",
       "      <td>NaN</td>\n",
       "      <td>4686</td>\n",
       "      <td>9.80</td>\n",
       "      <td>76500</td>\n",
       "      <td>74</td>\n",
       "      <td>1035</td>\n",
       "      <td>2246</td>\n",
       "      <td>71</td>\n",
       "    </tr>\n",
       "    <tr>\n",
       "      <th>1</th>\n",
       "      <td>2021</td>\n",
       "      <td>54930034MNPILHP25H80</td>\n",
       "      <td>10900</td>\n",
       "      <td>PA</td>\n",
       "      <td>42095.0</td>\n",
       "      <td>4.209501e+10</td>\n",
       "      <td>C</td>\n",
       "      <td>Conventional:First Lien</td>\n",
       "      <td>Single Family (1-4 Units):Site-Built</td>\n",
       "      <td>Ethnicity Not Available</td>\n",
       "      <td>...</td>\n",
       "      <td>NaN</td>\n",
       "      <td>NaN</td>\n",
       "      <td>NaN</td>\n",
       "      <td>7567</td>\n",
       "      <td>35.09</td>\n",
       "      <td>84900</td>\n",
       "      <td>78</td>\n",
       "      <td>2061</td>\n",
       "      <td>2963</td>\n",
       "      <td>64</td>\n",
       "    </tr>\n",
       "    <tr>\n",
       "      <th>2</th>\n",
       "      <td>2021</td>\n",
       "      <td>54930034MNPILHP25H80</td>\n",
       "      <td>39740</td>\n",
       "      <td>PA</td>\n",
       "      <td>42011.0</td>\n",
       "      <td>4.201101e+10</td>\n",
       "      <td>C</td>\n",
       "      <td>Conventional:First Lien</td>\n",
       "      <td>Single Family (1-4 Units):Site-Built</td>\n",
       "      <td>Not Hispanic or Latino</td>\n",
       "      <td>...</td>\n",
       "      <td>NaN</td>\n",
       "      <td>NaN</td>\n",
       "      <td>NaN</td>\n",
       "      <td>3040</td>\n",
       "      <td>3.39</td>\n",
       "      <td>82200</td>\n",
       "      <td>120</td>\n",
       "      <td>1032</td>\n",
       "      <td>1278</td>\n",
       "      <td>38</td>\n",
       "    </tr>\n",
       "    <tr>\n",
       "      <th>3</th>\n",
       "      <td>2021</td>\n",
       "      <td>54930034MNPILHP25H80</td>\n",
       "      <td>33874</td>\n",
       "      <td>PA</td>\n",
       "      <td>42091.0</td>\n",
       "      <td>4.209120e+10</td>\n",
       "      <td>C</td>\n",
       "      <td>Conventional:First Lien</td>\n",
       "      <td>Single Family (1-4 Units):Site-Built</td>\n",
       "      <td>Not Hispanic or Latino</td>\n",
       "      <td>...</td>\n",
       "      <td>NaN</td>\n",
       "      <td>NaN</td>\n",
       "      <td>NaN</td>\n",
       "      <td>4006</td>\n",
       "      <td>9.84</td>\n",
       "      <td>116300</td>\n",
       "      <td>104</td>\n",
       "      <td>1232</td>\n",
       "      <td>1319</td>\n",
       "      <td>53</td>\n",
       "    </tr>\n",
       "    <tr>\n",
       "      <th>4</th>\n",
       "      <td>2021</td>\n",
       "      <td>54930034MNPILHP25H80</td>\n",
       "      <td>37964</td>\n",
       "      <td>PA</td>\n",
       "      <td>42101.0</td>\n",
       "      <td>4.210103e+10</td>\n",
       "      <td>C</td>\n",
       "      <td>Conventional:First Lien</td>\n",
       "      <td>Single Family (1-4 Units):Site-Built</td>\n",
       "      <td>Not Hispanic or Latino</td>\n",
       "      <td>...</td>\n",
       "      <td>NaN</td>\n",
       "      <td>NaN</td>\n",
       "      <td>NaN</td>\n",
       "      <td>4514</td>\n",
       "      <td>98.54</td>\n",
       "      <td>67500</td>\n",
       "      <td>70</td>\n",
       "      <td>998</td>\n",
       "      <td>1677</td>\n",
       "      <td>76</td>\n",
       "    </tr>\n",
       "  </tbody>\n",
       "</table>\n",
       "<p>5 rows × 99 columns</p>\n",
       "</div>"
      ],
      "text/plain": [
       "   activity_year                   lei  derived_msa-md state_code  \\\n",
       "0           2021  54930034MNPILHP25H80           14100         PA   \n",
       "1           2021  54930034MNPILHP25H80           10900         PA   \n",
       "2           2021  54930034MNPILHP25H80           39740         PA   \n",
       "3           2021  54930034MNPILHP25H80           33874         PA   \n",
       "4           2021  54930034MNPILHP25H80           37964         PA   \n",
       "\n",
       "   county_code  census_tract conforming_loan_limit derived_loan_product_type  \\\n",
       "0      42093.0  4.209305e+10                     C   Conventional:First Lien   \n",
       "1      42095.0  4.209501e+10                     C   Conventional:First Lien   \n",
       "2      42011.0  4.201101e+10                     C   Conventional:First Lien   \n",
       "3      42091.0  4.209120e+10                     C   Conventional:First Lien   \n",
       "4      42101.0  4.210103e+10                     C   Conventional:First Lien   \n",
       "\n",
       "              derived_dwelling_category        derived_ethnicity  ...  \\\n",
       "0  Single Family (1-4 Units):Site-Built   Not Hispanic or Latino  ...   \n",
       "1  Single Family (1-4 Units):Site-Built  Ethnicity Not Available  ...   \n",
       "2  Single Family (1-4 Units):Site-Built   Not Hispanic or Latino  ...   \n",
       "3  Single Family (1-4 Units):Site-Built   Not Hispanic or Latino  ...   \n",
       "4  Single Family (1-4 Units):Site-Built   Not Hispanic or Latino  ...   \n",
       "\n",
       "  denial_reason-2 denial_reason-3  denial_reason-4  tract_population  \\\n",
       "0             NaN             NaN              NaN              4686   \n",
       "1             NaN             NaN              NaN              7567   \n",
       "2             NaN             NaN              NaN              3040   \n",
       "3             NaN             NaN              NaN              4006   \n",
       "4             NaN             NaN              NaN              4514   \n",
       "\n",
       "   tract_minority_population_percent  ffiec_msa_md_median_family_income  \\\n",
       "0                               9.80                              76500   \n",
       "1                              35.09                              84900   \n",
       "2                               3.39                              82200   \n",
       "3                               9.84                             116300   \n",
       "4                              98.54                              67500   \n",
       "\n",
       "   tract_to_msa_income_percentage  tract_owner_occupied_units  \\\n",
       "0                              74                        1035   \n",
       "1                              78                        2061   \n",
       "2                             120                        1032   \n",
       "3                             104                        1232   \n",
       "4                              70                         998   \n",
       "\n",
       "   tract_one_to_four_family_homes  tract_median_age_of_housing_units  \n",
       "0                            2246                                 71  \n",
       "1                            2963                                 64  \n",
       "2                            1278                                 38  \n",
       "3                            1319                                 53  \n",
       "4                            1677                                 76  \n",
       "\n",
       "[5 rows x 99 columns]"
      ]
     },
     "execution_count": 2,
     "metadata": {},
     "output_type": "execute_result"
    }
   ],
   "source": [
    "df = pd.read_csv('/Users/nguyenhalinh/Desktop/Research/dataset.csv')\n",
    "df = df[df['state_code'] == 'PA']\n",
    "df.head()"
   ]
  },
  {
   "cell_type": "code",
   "execution_count": 3,
   "id": "f6b47e53",
   "metadata": {},
   "outputs": [],
   "source": [
    "extracted_df = df[df['action_taken'].isin([1,3])] \n",
    "extracted_df = extracted_df[extracted_df['loan_purpose'] == 1]\n",
    "#clean property value column\n",
    "extracted_df = extracted_df[extracted_df['property_value'].notna()]\n",
    "extracted_df['property_value'] = np.where(extracted_df['property_value'] == 'Exempt',1111, extracted_df['property_value'])\n",
    "extracted_df[\"property_value\"] = pd.to_numeric(extracted_df[\"property_value\"])\n",
    "extracted_df[\"property_value\"] = extracted_df[\"property_value\"]/1000\n",
    "\n",
    "extracted_df[\"loan_amount\"] = extracted_df[\"loan_amount\"]/1000\n",
    "\n",
    "\n",
    "# clean loan terms column\n",
    "extracted_df['loan_term'] = np.where(extracted_df['loan_term'] == 'Exempt',1111, extracted_df['loan_term'])\n",
    "extracted_df['loan_term'] = pd.to_numeric(extracted_df['loan_term'])\n",
    "\n",
    "#clean debt to income ratio column\n",
    "extracted_df['debt_to_income_ratio'] = np.where(extracted_df['debt_to_income_ratio'] == '<20%',10, extracted_df['debt_to_income_ratio'])\n",
    "extracted_df['debt_to_income_ratio'] = np.where(extracted_df['debt_to_income_ratio'] == '20%-<30%',25, extracted_df['debt_to_income_ratio'])\n",
    "extracted_df['debt_to_income_ratio'] = np.where(extracted_df['debt_to_income_ratio'] == '30%-<36%',33, extracted_df['debt_to_income_ratio'])\n",
    "extracted_df['debt_to_income_ratio'] = np.where(extracted_df['debt_to_income_ratio'] == '50%-60%',55, extracted_df['debt_to_income_ratio'])\n",
    "extracted_df['debt_to_income_ratio'] = np.where(extracted_df['debt_to_income_ratio'] == '>60%',60, extracted_df['debt_to_income_ratio'])\n",
    "extracted_df['debt_to_income_ratio'] = np.where(extracted_df['debt_to_income_ratio'] == 'Exempt',1111, extracted_df['debt_to_income_ratio'])\n",
    "extracted_df[\"debt_to_income_ratio\"] = pd.to_numeric(extracted_df[\"debt_to_income_ratio\"])\n",
    "\n",
    "extracted_df = extracted_df[extracted_df['property_value']!= 1111]\n",
    "extracted_df = extracted_df[extracted_df['debt_to_income_ratio']!= 1111]\n",
    "extracted_df = extracted_df[extracted_df['loan_term']!= 1111]\n",
    "\n",
    "extracted_df.loc[extracted_df['action_taken'] == 1, 'outcome'] = 1\n",
    "extracted_df.loc[extracted_df['action_taken'] == 3, 'outcome'] = 0\n",
    "\n",
    "extracted_df = extracted_df[extracted_df['debt_to_income_ratio'].notna()]\n",
    "extracted_df = extracted_df[extracted_df['loan_amount'].notna()]\n",
    "extracted_df = extracted_df[extracted_df['income'].notna()]\n",
    "extracted_df = extracted_df[extracted_df['property_value'].notna()]"
   ]
  },
  {
   "cell_type": "code",
   "execution_count": 4,
   "id": "2fff81af",
   "metadata": {
    "scrolled": false
   },
   "outputs": [],
   "source": [
    "philly_county = extracted_df[extracted_df['county_code'] == 42101]"
   ]
  },
  {
   "cell_type": "code",
   "execution_count": 5,
   "id": "93c60069",
   "metadata": {},
   "outputs": [],
   "source": [
    "philly_county = philly_county[['loan_amount', 'property_value', 'income', 'debt_to_income_ratio','outcome']].reset_index()"
   ]
  },
  {
   "cell_type": "code",
   "execution_count": 6,
   "id": "218ac978",
   "metadata": {},
   "outputs": [],
   "source": [
    "philly_county = philly_county.drop(philly_county.columns[0],axis=1)"
   ]
  },
  {
   "cell_type": "code",
   "execution_count": 7,
   "id": "02140bb4",
   "metadata": {
    "scrolled": true
   },
   "outputs": [
    {
     "data": {
      "text/plain": [
       "(19975, 5)"
      ]
     },
     "execution_count": 7,
     "metadata": {},
     "output_type": "execute_result"
    }
   ],
   "source": [
    "philly_county.shape"
   ]
  },
  {
   "cell_type": "markdown",
   "id": "0526c569",
   "metadata": {},
   "source": [
    "## Class Distribution"
   ]
  },
  {
   "cell_type": "code",
   "execution_count": 8,
   "id": "88d5f4b0",
   "metadata": {},
   "outputs": [
    {
     "data": {
      "image/png": "[encoded data removed]",
      "text/plain": [
       "<Figure size 432x288 with 1 Axes>"
      ]
     },
     "metadata": {
      "needs_background": "light"
     },
     "output_type": "display_data"
    }
   ],
   "source": [
    "result_counts = philly_county['outcome'].value_counts()\n",
    "\n",
    "# Calculate the percentages\n",
    "result_pct = (result_counts / len(philly_county)) * 100\n",
    "\n",
    "# Plotting the chart\n",
    "result_pct.plot(kind='bar')\n",
    "\n",
    "# Plotting the chart\n",
    "ax = result_pct.plot(kind='bar')\n",
    "\n",
    "# Add labels to the bars\n",
    "for i, v in enumerate(result_pct):\n",
    "    ax.text(i, v + 1, f'{v:.1f}%', ha='center')\n",
    "\n",
    "plt.xlabel('Status')\n",
    "plt.ylabel('Percentage')\n",
    "plt.title('Application Status')\n",
    "\n",
    "plt.show()\n"
   ]
  },
  {
   "cell_type": "markdown",
   "id": "b81ea46a",
   "metadata": {},
   "source": [
    "The chart shows that our data for Philly county is highly imbalanced"
   ]
  },
  {
   "cell_type": "markdown",
   "id": "8c9362ba",
   "metadata": {},
   "source": [
    "## Data Preparation"
   ]
  },
  {
   "cell_type": "code",
   "execution_count": 9,
   "id": "b51a42ca",
   "metadata": {},
   "outputs": [],
   "source": [
    "X = philly_county.drop(['outcome'], axis=1)\n",
    "\n",
    "y = philly_county['outcome']"
   ]
  },
  {
   "cell_type": "code",
   "execution_count": 10,
   "id": "53b1d050",
   "metadata": {},
   "outputs": [],
   "source": [
    "# split X and y into training and testing sets\n",
    "\n",
    "from sklearn.model_selection import train_test_split\n",
    "\n",
    "X_train, X_test, y_train, y_test = train_test_split(X, y, test_size = 0.4, random_state = 0)"
   ]
  },
  {
   "cell_type": "code",
   "execution_count": 11,
   "id": "502eaf81",
   "metadata": {},
   "outputs": [
    {
     "data": {
      "text/html": [
       "<div>\n",
       "<style scoped>\n",
       "    .dataframe tbody tr th:only-of-type {\n",
       "        vertical-align: middle;\n",
       "    }\n",
       "\n",
       "    .dataframe tbody tr th {\n",
       "        vertical-align: top;\n",
       "    }\n",
       "\n",
       "    .dataframe thead th {\n",
       "        text-align: right;\n",
       "    }\n",
       "</style>\n",
       "<table border=\"1\" class=\"dataframe\">\n",
       "  <thead>\n",
       "    <tr style=\"text-align: right;\">\n",
       "      <th></th>\n",
       "      <th>loan_amount</th>\n",
       "      <th>property_value</th>\n",
       "      <th>income</th>\n",
       "      <th>debt_to_income_ratio</th>\n",
       "    </tr>\n",
       "  </thead>\n",
       "  <tbody>\n",
       "    <tr>\n",
       "      <th>12806</th>\n",
       "      <td>205.0</td>\n",
       "      <td>265.0</td>\n",
       "      <td>19.0</td>\n",
       "      <td>25.0</td>\n",
       "    </tr>\n",
       "    <tr>\n",
       "      <th>13697</th>\n",
       "      <td>175.0</td>\n",
       "      <td>185.0</td>\n",
       "      <td>57.0</td>\n",
       "      <td>55.0</td>\n",
       "    </tr>\n",
       "    <tr>\n",
       "      <th>19019</th>\n",
       "      <td>425.0</td>\n",
       "      <td>455.0</td>\n",
       "      <td>62.0</td>\n",
       "      <td>55.0</td>\n",
       "    </tr>\n",
       "    <tr>\n",
       "      <th>2255</th>\n",
       "      <td>445.0</td>\n",
       "      <td>565.0</td>\n",
       "      <td>184.0</td>\n",
       "      <td>33.0</td>\n",
       "    </tr>\n",
       "    <tr>\n",
       "      <th>5918</th>\n",
       "      <td>105.0</td>\n",
       "      <td>225.0</td>\n",
       "      <td>55.0</td>\n",
       "      <td>10.0</td>\n",
       "    </tr>\n",
       "  </tbody>\n",
       "</table>\n",
       "</div>"
      ],
      "text/plain": [
       "       loan_amount  property_value  income  debt_to_income_ratio\n",
       "12806        205.0           265.0    19.0                  25.0\n",
       "13697        175.0           185.0    57.0                  55.0\n",
       "19019        425.0           455.0    62.0                  55.0\n",
       "2255         445.0           565.0   184.0                  33.0\n",
       "5918         105.0           225.0    55.0                  10.0"
      ]
     },
     "execution_count": 11,
     "metadata": {},
     "output_type": "execute_result"
    }
   ],
   "source": [
    "X_test.head()"
   ]
  },
  {
   "cell_type": "code",
   "execution_count": 12,
   "id": "e464e266",
   "metadata": {},
   "outputs": [
    {
     "data": {
      "text/plain": [
       "((11985, 4), (7990, 4))"
      ]
     },
     "execution_count": 12,
     "metadata": {},
     "output_type": "execute_result"
    }
   ],
   "source": [
    "# check the shape of X_train and X_test\n",
    "\n",
    "X_train.shape, X_test.shape"
   ]
  },
  {
   "cell_type": "code",
   "execution_count": 13,
   "id": "d85ceae2",
   "metadata": {},
   "outputs": [],
   "source": [
    "# X_train.describe()"
   ]
  },
  {
   "cell_type": "code",
   "execution_count": 14,
   "id": "2cb14701",
   "metadata": {
    "scrolled": true
   },
   "outputs": [
    {
     "data": {
      "text/plain": [
       "Index(['loan_amount', 'property_value', 'income', 'debt_to_income_ratio'], dtype='object')"
      ]
     },
     "execution_count": 14,
     "metadata": {},
     "output_type": "execute_result"
    }
   ],
   "source": [
    "cols = X_train.columns\n",
    "# cols"
   ]
  },
  {
   "cell_type": "code",
   "execution_count": 15,
   "id": "e09f13f5",
   "metadata": {},
   "outputs": [],
   "source": [
    "from sklearn.preprocessing import MinMaxScaler\n",
    "\n",
    "scaler = MinMaxScaler()\n",
    "\n",
    "scaledX_train = scaler.fit_transform(X_train)\n",
    "\n",
    "scaledX_test = scaler.transform(X_test)"
   ]
  },
  {
   "cell_type": "code",
   "execution_count": 16,
   "id": "2cf8f066",
   "metadata": {},
   "outputs": [],
   "source": [
    "scaledX_train = pd.DataFrame(scaledX_train, columns=[cols])\n",
    "scaledX_test = pd.DataFrame(scaledX_test, columns=[cols])"
   ]
  },
  {
   "cell_type": "code",
   "execution_count": 17,
   "id": "0fd6c801",
   "metadata": {
    "scrolled": false
   },
   "outputs": [],
   "source": [
    "#scaledX_train.describe()"
   ]
  },
  {
   "cell_type": "markdown",
   "id": "bafef96d",
   "metadata": {},
   "source": [
    "## Model Training without tuning"
   ]
  },
  {
   "cell_type": "code",
   "execution_count": 27,
   "id": "10cb3471",
   "metadata": {
    "scrolled": true
   },
   "outputs": [
    {
     "data": {
      "text/html": [
       "<style>#sk-container-id-3 {color: black;background-color: white;}#sk-container-id-3 pre{padding: 0;}#sk-container-id-3 div.sk-toggleable {background-color: white;}#sk-container-id-3 label.sk-toggleable__label {cursor: pointer;display: block;width: 100%;margin-bottom: 0;padding: 0.3em;box-sizing: border-box;text-align: center;}#sk-container-id-3 label.sk-toggleable__label-arrow:before {content: \"▸\";float: left;margin-right: 0.25em;color: #696969;}#sk-container-id-3 label.sk-toggleable__label-arrow:hover:before {color: black;}#sk-container-id-3 div.sk-estimator:hover label.sk-toggleable__label-arrow:before {color: black;}#sk-container-id-3 div.sk-toggleable__content {max-height: 0;max-width: 0;overflow: hidden;text-align: left;background-color: #f0f8ff;}#sk-container-id-3 div.sk-toggleable__content pre {margin: 0.2em;color: black;border-radius: 0.25em;background-color: #f0f8ff;}#sk-container-id-3 input.sk-toggleable__control:checked~div.sk-toggleable__content {max-height: 200px;max-width: 100%;overflow: auto;}#sk-container-id-3 input.sk-toggleable__control:checked~label.sk-toggleable__label-arrow:before {content: \"▾\";}#sk-container-id-3 div.sk-estimator input.sk-toggleable__control:checked~label.sk-toggleable__label {background-color: #d4ebff;}#sk-container-id-3 div.sk-label input.sk-toggleable__control:checked~label.sk-toggleable__label {background-color: #d4ebff;}#sk-container-id-3 input.sk-hidden--visually {border: 0;clip: rect(1px 1px 1px 1px);clip: rect(1px, 1px, 1px, 1px);height: 1px;margin: -1px;overflow: hidden;padding: 0;position: absolute;width: 1px;}#sk-container-id-3 div.sk-estimator {font-family: monospace;background-color: #f0f8ff;border: 1px dotted black;border-radius: 0.25em;box-sizing: border-box;margin-bottom: 0.5em;}#sk-container-id-3 div.sk-estimator:hover {background-color: #d4ebff;}#sk-container-id-3 div.sk-parallel-item::after {content: \"\";width: 100%;border-bottom: 1px solid gray;flex-grow: 1;}#sk-container-id-3 div.sk-label:hover label.sk-toggleable__label {background-color: #d4ebff;}#sk-container-id-3 div.sk-serial::before {content: \"\";position: absolute;border-left: 1px solid gray;box-sizing: border-box;top: 0;bottom: 0;left: 50%;z-index: 0;}#sk-container-id-3 div.sk-serial {display: flex;flex-direction: column;align-items: center;background-color: white;padding-right: 0.2em;padding-left: 0.2em;position: relative;}#sk-container-id-3 div.sk-item {position: relative;z-index: 1;}#sk-container-id-3 div.sk-parallel {display: flex;align-items: stretch;justify-content: center;background-color: white;position: relative;}#sk-container-id-3 div.sk-item::before, #sk-container-id-3 div.sk-parallel-item::before {content: \"\";position: absolute;border-left: 1px solid gray;box-sizing: border-box;top: 0;bottom: 0;left: 50%;z-index: -1;}#sk-container-id-3 div.sk-parallel-item {display: flex;flex-direction: column;z-index: 1;position: relative;background-color: white;}#sk-container-id-3 div.sk-parallel-item:first-child::after {align-self: flex-end;width: 50%;}#sk-container-id-3 div.sk-parallel-item:last-child::after {align-self: flex-start;width: 50%;}#sk-container-id-3 div.sk-parallel-item:only-child::after {width: 0;}#sk-container-id-3 div.sk-dashed-wrapped {border: 1px dashed gray;margin: 0 0.4em 0.5em 0.4em;box-sizing: border-box;padding-bottom: 0.4em;background-color: white;}#sk-container-id-3 div.sk-label label {font-family: monospace;font-weight: bold;display: inline-block;line-height: 1.2em;}#sk-container-id-3 div.sk-label-container {text-align: center;}#sk-container-id-3 div.sk-container {/* jupyter's `normalize.less` sets `[hidden] { display: none; }` but bootstrap.min.css set `[hidden] { display: none !important; }` so we also need the `!important` here to be able to override the default hidden behavior on the sphinx rendered scikit-learn.org. See: https://github.com/scikit-learn/scikit-learn/issues/21755 */display: inline-block !important;position: relative;}#sk-container-id-3 div.sk-text-repr-fallback {display: none;}</style><div id=\"sk-container-id-3\" class=\"sk-top-container\"><div class=\"sk-text-repr-fallback\"><pre>LogisticRegression(random_state=42, solver=&#x27;liblinear&#x27;)</pre><b>In a Jupyter environment, please rerun this cell to show the HTML representation or trust the notebook. <br />On GitHub, the HTML representation is unable to render, please try loading this page with nbviewer.org.</b></div><div class=\"sk-container\" hidden><div class=\"sk-item\"><div class=\"sk-estimator sk-toggleable\"><input class=\"sk-toggleable__control sk-hidden--visually\" id=\"sk-estimator-id-3\" type=\"checkbox\" checked><label for=\"sk-estimator-id-3\" class=\"sk-toggleable__label sk-toggleable__label-arrow\">LogisticRegression</label><div class=\"sk-toggleable__content\"><pre>LogisticRegression(random_state=42, solver=&#x27;liblinear&#x27;)</pre></div></div></div></div></div>"
      ],
      "text/plain": [
       "LogisticRegression(random_state=42, solver='liblinear')"
      ]
     },
     "execution_count": 27,
     "metadata": {},
     "output_type": "execute_result"
    }
   ],
   "source": [
    "# train a logistic regression model on the training set\n",
    "from sklearn.linear_model import LogisticRegression\n",
    "\n",
    "\n",
    "# instantiate the model\n",
    "logreg = LogisticRegression(solver='liblinear', random_state=42)\n",
    "\n",
    "\n",
    "# fit the model\n",
    "logreg.fit(scaledX_train, y_train)"
   ]
  },
  {
   "cell_type": "markdown",
   "id": "056395b8",
   "metadata": {},
   "source": [
    "### Predicting"
   ]
  },
  {
   "cell_type": "code",
   "execution_count": 28,
   "id": "af284855",
   "metadata": {},
   "outputs": [
    {
     "data": {
      "text/plain": [
       "array([1.])"
      ]
     },
     "execution_count": 28,
     "metadata": {},
     "output_type": "execute_result"
    }
   ],
   "source": [
    "y_pred_test = logreg.predict(scaledX_test)\n",
    "\n",
    "np.unique(y_pred_test)"
   ]
  },
  {
   "cell_type": "code",
   "execution_count": 29,
   "id": "b2408dd5",
   "metadata": {},
   "outputs": [
    {
     "data": {
      "text/plain": [
       "array([0.05123925, 0.25046292, 0.18363021, ..., 0.06290945, 0.04787176,\n",
       "       0.14339919])"
      ]
     },
     "execution_count": 29,
     "metadata": {},
     "output_type": "execute_result"
    }
   ],
   "source": [
    "# probability of getting output as 0 - rejected\n",
    "\n",
    "logreg.predict_proba(scaledX_test)[:,0]"
   ]
  },
  {
   "cell_type": "code",
   "execution_count": 30,
   "id": "02bca07c",
   "metadata": {
    "scrolled": true
   },
   "outputs": [
    {
     "data": {
      "text/plain": [
       "array([0.94876075, 0.74953708, 0.81636979, ..., 0.93709055, 0.95212824,\n",
       "       0.85660081])"
      ]
     },
     "execution_count": 30,
     "metadata": {},
     "output_type": "execute_result"
    }
   ],
   "source": [
    "# probability of getting output as 1 - accepted\n",
    "\n",
    "logreg.predict_proba(scaledX_test)[:,1]"
   ]
  },
  {
   "cell_type": "markdown",
   "id": "9b28fcfc",
   "metadata": {},
   "source": [
    "### Checking accuracy score"
   ]
  },
  {
   "cell_type": "code",
   "execution_count": 31,
   "id": "5c6563bc",
   "metadata": {
    "scrolled": true
   },
   "outputs": [
    {
     "name": "stdout",
     "output_type": "stream",
     "text": [
      "Model accuracy score: 0.9071\n"
     ]
    }
   ],
   "source": [
    "from sklearn.metrics import accuracy_score\n",
    "\n",
    "print('Model accuracy score: {0:0.4f}'. format(accuracy_score(y_test, y_pred_test)))"
   ]
  },
  {
   "cell_type": "markdown",
   "id": "809222a7",
   "metadata": {},
   "source": [
    "### Confusion Matrix"
   ]
  },
  {
   "cell_type": "code",
   "execution_count": 66,
   "id": "0a50880e",
   "metadata": {
    "scrolled": true
   },
   "outputs": [
    {
     "name": "stdout",
     "output_type": "stream",
     "text": [
      "              precision    recall  f1-score   support\n",
      "\n",
      "         0.0       0.00      0.00      0.00       742\n",
      "         1.0       0.91      1.00      0.95      7248\n",
      "\n",
      "    accuracy                           0.91      7990\n",
      "   macro avg       0.45      0.50      0.48      7990\n",
      "weighted avg       0.82      0.91      0.86      7990\n",
      "\n"
     ]
    },
    {
     "name": "stderr",
     "output_type": "stream",
     "text": [
      "/opt/anaconda3/envs/pyclass/lib/python3.9/site-packages/sklearn/metrics/_classification.py:1327: UndefinedMetricWarning: Precision and F-score are ill-defined and being set to 0.0 in labels with no predicted samples. Use `zero_division` parameter to control this behavior.\n",
      "  _warn_prf(average, modifier, msg_start, len(result))\n",
      "/opt/anaconda3/envs/pyclass/lib/python3.9/site-packages/sklearn/metrics/_classification.py:1327: UndefinedMetricWarning: Precision and F-score are ill-defined and being set to 0.0 in labels with no predicted samples. Use `zero_division` parameter to control this behavior.\n",
      "  _warn_prf(average, modifier, msg_start, len(result))\n",
      "/opt/anaconda3/envs/pyclass/lib/python3.9/site-packages/sklearn/metrics/_classification.py:1327: UndefinedMetricWarning: Precision and F-score are ill-defined and being set to 0.0 in labels with no predicted samples. Use `zero_division` parameter to control this behavior.\n",
      "  _warn_prf(average, modifier, msg_start, len(result))\n"
     ]
    }
   ],
   "source": [
    "# Print the Confusion Matrix and slice it into four pieces\n",
    "\n",
    "from sklearn.metrics import confusion_matrix, classification_report\n",
    "\n",
    "# cm = confusion_matrix(y_test, y_pred_test)\n",
    "# tn, fp, fn, tp = cm.ravel()\n",
    "# print('Confusion matrix\\n\\n', cm)\n",
    "# print('\\nTrue Positives(TP) = ', tp)\n",
    "# print('\\nTrue Negatives(TN) = ', tn)\n",
    "# print('\\nFalse Positives(FP) = ', fp)\n",
    "# print('\\nFalse Negatives(FN) = ', fn)\n",
    "print(classification_report(y_test, y_pred_test))"
   ]
  },
  {
   "cell_type": "code",
   "execution_count": 68,
   "id": "93d1fdc8",
   "metadata": {},
   "outputs": [
    {
     "data": {
      "image/png": "[encoded data removed]",
      "text/plain": [
       "<Figure size 576x432 with 2 Axes>"
      ]
     },
     "metadata": {
      "needs_background": "light"
     },
     "output_type": "display_data"
    }
   ],
   "source": [
    "from sklearn.metrics import ConfusionMatrixDisplay\n",
    "\n",
    "cm = confusion_matrix(y_test, y_pred_test)\n",
    "\n",
    "# Change figure size and increase dpi for better resolution\n",
    "# and get reference to axes object\n",
    "fig, ax = plt.subplots(figsize=(8,6))\n",
    "\n",
    "# initialize using the raw 2D confusion matrix \n",
    "# and output labels (in our case, it's 0 and 1)\n",
    "display = ConfusionMatrixDisplay(cm, display_labels=logreg.classes_)\n",
    "\n",
    "# set the plot title using the axes object\n",
    "ax.set(title='Confusion Matrix for Loan Applications Prediction Model not Tuned')\n",
    "\n",
    "# show the plot. \n",
    "# Pass the parameter ax to show customizations (ex. title) \n",
    "display.plot(ax=ax);"
   ]
  },
  {
   "cell_type": "markdown",
   "id": "9b226e82",
   "metadata": {},
   "source": [
    "Although the accuracy score is high, our model couldn't predict rejected application due to imbalanced classes. Thus, we need to adjust the probability threshold to tune the model"
   ]
  },
  {
   "cell_type": "markdown",
   "id": "dfefb5a9",
   "metadata": {},
   "source": [
    "## Threshold Trial and Error"
   ]
  },
  {
   "cell_type": "code",
   "execution_count": 37,
   "id": "e8454837",
   "metadata": {
    "scrolled": true
   },
   "outputs": [
    {
     "name": "stdout",
     "output_type": "stream",
     "text": [
      "\n",
      "******** For i = 0.05 ******\n",
      "Testing accuracy is 0.907133917396746 f1_score is 0.9513059456621603\n",
      "[[   0  742]\n",
      " [   0 7248]]\n",
      "              precision    recall  f1-score   support\n",
      "\n",
      "         0.0       0.00      0.00      0.00       742\n",
      "         1.0       0.91      1.00      0.95      7248\n",
      "\n",
      "    accuracy                           0.91      7990\n",
      "   macro avg       0.45      0.50      0.48      7990\n",
      "weighted avg       0.82      0.91      0.86      7990\n",
      "\n",
      "\n",
      "******** For i = 0.1 ******\n",
      "Testing accuracy is 0.907133917396746 f1_score is 0.9513059456621603\n",
      "[[   0  742]\n",
      " [   0 7248]]\n",
      "              precision    recall  f1-score   support\n",
      "\n",
      "         0.0       0.00      0.00      0.00       742\n",
      "         1.0       0.91      1.00      0.95      7248\n",
      "\n",
      "    accuracy                           0.91      7990\n",
      "   macro avg       0.45      0.50      0.48      7990\n",
      "weighted avg       0.82      0.91      0.86      7990\n",
      "\n",
      "\n",
      "******** For i = 0.15 ******\n",
      "Testing accuracy is 0.907133917396746 f1_score is 0.9513059456621603\n",
      "[[   0  742]\n",
      " [   0 7248]]\n",
      "              precision    recall  f1-score   support\n",
      "\n",
      "         0.0       0.00      0.00      0.00       742\n",
      "         1.0       0.91      1.00      0.95      7248\n",
      "\n",
      "    accuracy                           0.91      7990\n",
      "   macro avg       0.45      0.50      0.48      7990\n",
      "weighted avg       0.82      0.91      0.86      7990\n",
      "\n",
      "\n",
      "******** For i = 0.2 ******\n",
      "Testing accuracy is 0.907133917396746 f1_score is 0.9513059456621603\n",
      "[[   0  742]\n",
      " [   0 7248]]\n",
      "              precision    recall  f1-score   support\n",
      "\n",
      "         0.0       0.00      0.00      0.00       742\n",
      "         1.0       0.91      1.00      0.95      7248\n",
      "\n",
      "    accuracy                           0.91      7990\n",
      "   macro avg       0.45      0.50      0.48      7990\n",
      "weighted avg       0.82      0.91      0.86      7990\n",
      "\n",
      "\n",
      "******** For i = 0.25 ******\n",
      "Testing accuracy is 0.907133917396746 f1_score is 0.9513059456621603\n",
      "[[   0  742]\n",
      " [   0 7248]]\n",
      "              precision    recall  f1-score   support\n",
      "\n",
      "         0.0       0.00      0.00      0.00       742\n",
      "         1.0       0.91      1.00      0.95      7248\n",
      "\n",
      "    accuracy                           0.91      7990\n",
      "   macro avg       0.45      0.50      0.48      7990\n",
      "weighted avg       0.82      0.91      0.86      7990\n",
      "\n",
      "\n",
      "******** For i = 0.3 ******\n",
      "Testing accuracy is 0.907133917396746 f1_score is 0.9513059456621603\n"
     ]
    },
    {
     "name": "stderr",
     "output_type": "stream",
     "text": [
      "/opt/anaconda3/envs/pyclass/lib/python3.9/site-packages/sklearn/metrics/_classification.py:1327: UndefinedMetricWarning: Precision and F-score are ill-defined and being set to 0.0 in labels with no predicted samples. Use `zero_division` parameter to control this behavior.\n",
      "  _warn_prf(average, modifier, msg_start, len(result))\n",
      "/opt/anaconda3/envs/pyclass/lib/python3.9/site-packages/sklearn/metrics/_classification.py:1327: UndefinedMetricWarning: Precision and F-score are ill-defined and being set to 0.0 in labels with no predicted samples. Use `zero_division` parameter to control this behavior.\n",
      "  _warn_prf(average, modifier, msg_start, len(result))\n",
      "/opt/anaconda3/envs/pyclass/lib/python3.9/site-packages/sklearn/metrics/_classification.py:1327: UndefinedMetricWarning: Precision and F-score are ill-defined and being set to 0.0 in labels with no predicted samples. Use `zero_division` parameter to control this behavior.\n",
      "  _warn_prf(average, modifier, msg_start, len(result))\n",
      "/opt/anaconda3/envs/pyclass/lib/python3.9/site-packages/sklearn/metrics/_classification.py:1327: UndefinedMetricWarning: Precision and F-score are ill-defined and being set to 0.0 in labels with no predicted samples. Use `zero_division` parameter to control this behavior.\n",
      "  _warn_prf(average, modifier, msg_start, len(result))\n",
      "/opt/anaconda3/envs/pyclass/lib/python3.9/site-packages/sklearn/metrics/_classification.py:1327: UndefinedMetricWarning: Precision and F-score are ill-defined and being set to 0.0 in labels with no predicted samples. Use `zero_division` parameter to control this behavior.\n",
      "  _warn_prf(average, modifier, msg_start, len(result))\n",
      "/opt/anaconda3/envs/pyclass/lib/python3.9/site-packages/sklearn/metrics/_classification.py:1327: UndefinedMetricWarning: Precision and F-score are ill-defined and being set to 0.0 in labels with no predicted samples. Use `zero_division` parameter to control this behavior.\n",
      "  _warn_prf(average, modifier, msg_start, len(result))\n",
      "/opt/anaconda3/envs/pyclass/lib/python3.9/site-packages/sklearn/metrics/_classification.py:1327: UndefinedMetricWarning: Precision and F-score are ill-defined and being set to 0.0 in labels with no predicted samples. Use `zero_division` parameter to control this behavior.\n",
      "  _warn_prf(average, modifier, msg_start, len(result))\n",
      "/opt/anaconda3/envs/pyclass/lib/python3.9/site-packages/sklearn/metrics/_classification.py:1327: UndefinedMetricWarning: Precision and F-score are ill-defined and being set to 0.0 in labels with no predicted samples. Use `zero_division` parameter to control this behavior.\n",
      "  _warn_prf(average, modifier, msg_start, len(result))\n",
      "/opt/anaconda3/envs/pyclass/lib/python3.9/site-packages/sklearn/metrics/_classification.py:1327: UndefinedMetricWarning: Precision and F-score are ill-defined and being set to 0.0 in labels with no predicted samples. Use `zero_division` parameter to control this behavior.\n",
      "  _warn_prf(average, modifier, msg_start, len(result))\n",
      "/opt/anaconda3/envs/pyclass/lib/python3.9/site-packages/sklearn/metrics/_classification.py:1327: UndefinedMetricWarning: Precision and F-score are ill-defined and being set to 0.0 in labels with no predicted samples. Use `zero_division` parameter to control this behavior.\n",
      "  _warn_prf(average, modifier, msg_start, len(result))\n",
      "/opt/anaconda3/envs/pyclass/lib/python3.9/site-packages/sklearn/metrics/_classification.py:1327: UndefinedMetricWarning: Precision and F-score are ill-defined and being set to 0.0 in labels with no predicted samples. Use `zero_division` parameter to control this behavior.\n",
      "  _warn_prf(average, modifier, msg_start, len(result))\n",
      "/opt/anaconda3/envs/pyclass/lib/python3.9/site-packages/sklearn/metrics/_classification.py:1327: UndefinedMetricWarning: Precision and F-score are ill-defined and being set to 0.0 in labels with no predicted samples. Use `zero_division` parameter to control this behavior.\n",
      "  _warn_prf(average, modifier, msg_start, len(result))\n",
      "/opt/anaconda3/envs/pyclass/lib/python3.9/site-packages/sklearn/metrics/_classification.py:1327: UndefinedMetricWarning: Precision and F-score are ill-defined and being set to 0.0 in labels with no predicted samples. Use `zero_division` parameter to control this behavior.\n",
      "  _warn_prf(average, modifier, msg_start, len(result))\n",
      "/opt/anaconda3/envs/pyclass/lib/python3.9/site-packages/sklearn/metrics/_classification.py:1327: UndefinedMetricWarning: Precision and F-score are ill-defined and being set to 0.0 in labels with no predicted samples. Use `zero_division` parameter to control this behavior.\n",
      "  _warn_prf(average, modifier, msg_start, len(result))\n",
      "/opt/anaconda3/envs/pyclass/lib/python3.9/site-packages/sklearn/metrics/_classification.py:1327: UndefinedMetricWarning: Precision and F-score are ill-defined and being set to 0.0 in labels with no predicted samples. Use `zero_division` parameter to control this behavior.\n",
      "  _warn_prf(average, modifier, msg_start, len(result))\n",
      "/opt/anaconda3/envs/pyclass/lib/python3.9/site-packages/sklearn/metrics/_classification.py:1327: UndefinedMetricWarning: Precision and F-score are ill-defined and being set to 0.0 in labels with no predicted samples. Use `zero_division` parameter to control this behavior.\n",
      "  _warn_prf(average, modifier, msg_start, len(result))\n",
      "/opt/anaconda3/envs/pyclass/lib/python3.9/site-packages/sklearn/metrics/_classification.py:1327: UndefinedMetricWarning: Precision and F-score are ill-defined and being set to 0.0 in labels with no predicted samples. Use `zero_division` parameter to control this behavior.\n",
      "  _warn_prf(average, modifier, msg_start, len(result))\n",
      "/opt/anaconda3/envs/pyclass/lib/python3.9/site-packages/sklearn/metrics/_classification.py:1327: UndefinedMetricWarning: Precision and F-score are ill-defined and being set to 0.0 in labels with no predicted samples. Use `zero_division` parameter to control this behavior.\n",
      "  _warn_prf(average, modifier, msg_start, len(result))\n"
     ]
    },
    {
     "name": "stdout",
     "output_type": "stream",
     "text": [
      "[[   0  742]\n",
      " [   0 7248]]\n",
      "              precision    recall  f1-score   support\n",
      "\n",
      "         0.0       0.00      0.00      0.00       742\n",
      "         1.0       0.91      1.00      0.95      7248\n",
      "\n",
      "    accuracy                           0.91      7990\n",
      "   macro avg       0.45      0.50      0.48      7990\n",
      "weighted avg       0.82      0.91      0.86      7990\n",
      "\n",
      "\n",
      "******** For i = 0.35 ******\n",
      "Testing accuracy is 0.907133917396746 f1_score is 0.9513059456621603\n",
      "[[   0  742]\n",
      " [   0 7248]]\n",
      "              precision    recall  f1-score   support\n",
      "\n",
      "         0.0       0.00      0.00      0.00       742\n",
      "         1.0       0.91      1.00      0.95      7248\n",
      "\n",
      "    accuracy                           0.91      7990\n",
      "   macro avg       0.45      0.50      0.48      7990\n",
      "weighted avg       0.82      0.91      0.86      7990\n",
      "\n",
      "\n",
      "******** For i = 0.4 ******\n",
      "Testing accuracy is 0.907133917396746 f1_score is 0.9513059456621603\n",
      "[[   0  742]\n",
      " [   0 7248]]\n",
      "              precision    recall  f1-score   support\n",
      "\n",
      "         0.0       0.00      0.00      0.00       742\n",
      "         1.0       0.91      1.00      0.95      7248\n",
      "\n",
      "    accuracy                           0.91      7990\n",
      "   macro avg       0.45      0.50      0.48      7990\n",
      "weighted avg       0.82      0.91      0.86      7990\n",
      "\n",
      "\n",
      "******** For i = 0.45 ******\n",
      "Testing accuracy is 0.907133917396746 f1_score is 0.9513059456621603\n",
      "[[   0  742]\n",
      " [   0 7248]]\n",
      "              precision    recall  f1-score   support\n",
      "\n",
      "         0.0       0.00      0.00      0.00       742\n",
      "         1.0       0.91      1.00      0.95      7248\n",
      "\n",
      "    accuracy                           0.91      7990\n",
      "   macro avg       0.45      0.50      0.48      7990\n",
      "weighted avg       0.82      0.91      0.86      7990\n",
      "\n",
      "\n",
      "******** For i = 0.5 ******\n",
      "Testing accuracy is 0.907133917396746 f1_score is 0.9513059456621603\n",
      "[[   0  742]\n",
      " [   0 7248]]\n",
      "              precision    recall  f1-score   support\n",
      "\n",
      "         0.0       0.00      0.00      0.00       742\n",
      "         1.0       0.91      1.00      0.95      7248\n",
      "\n",
      "    accuracy                           0.91      7990\n",
      "   macro avg       0.45      0.50      0.48      7990\n",
      "weighted avg       0.82      0.91      0.86      7990\n",
      "\n",
      "\n",
      "******** For i = 0.55 ******\n",
      "Testing accuracy is 0.907133917396746 f1_score is 0.9513059456621603\n",
      "[[   0  742]\n",
      " [   0 7248]]\n"
     ]
    },
    {
     "name": "stderr",
     "output_type": "stream",
     "text": [
      "/opt/anaconda3/envs/pyclass/lib/python3.9/site-packages/sklearn/metrics/_classification.py:1327: UndefinedMetricWarning: Precision and F-score are ill-defined and being set to 0.0 in labels with no predicted samples. Use `zero_division` parameter to control this behavior.\n",
      "  _warn_prf(average, modifier, msg_start, len(result))\n",
      "/opt/anaconda3/envs/pyclass/lib/python3.9/site-packages/sklearn/metrics/_classification.py:1327: UndefinedMetricWarning: Precision and F-score are ill-defined and being set to 0.0 in labels with no predicted samples. Use `zero_division` parameter to control this behavior.\n",
      "  _warn_prf(average, modifier, msg_start, len(result))\n",
      "/opt/anaconda3/envs/pyclass/lib/python3.9/site-packages/sklearn/metrics/_classification.py:1327: UndefinedMetricWarning: Precision and F-score are ill-defined and being set to 0.0 in labels with no predicted samples. Use `zero_division` parameter to control this behavior.\n",
      "  _warn_prf(average, modifier, msg_start, len(result))\n",
      "/opt/anaconda3/envs/pyclass/lib/python3.9/site-packages/sklearn/metrics/_classification.py:1327: UndefinedMetricWarning: Precision and F-score are ill-defined and being set to 0.0 in labels with no predicted samples. Use `zero_division` parameter to control this behavior.\n",
      "  _warn_prf(average, modifier, msg_start, len(result))\n",
      "/opt/anaconda3/envs/pyclass/lib/python3.9/site-packages/sklearn/metrics/_classification.py:1327: UndefinedMetricWarning: Precision and F-score are ill-defined and being set to 0.0 in labels with no predicted samples. Use `zero_division` parameter to control this behavior.\n",
      "  _warn_prf(average, modifier, msg_start, len(result))\n",
      "/opt/anaconda3/envs/pyclass/lib/python3.9/site-packages/sklearn/metrics/_classification.py:1327: UndefinedMetricWarning: Precision and F-score are ill-defined and being set to 0.0 in labels with no predicted samples. Use `zero_division` parameter to control this behavior.\n",
      "  _warn_prf(average, modifier, msg_start, len(result))\n",
      "/opt/anaconda3/envs/pyclass/lib/python3.9/site-packages/sklearn/metrics/_classification.py:1327: UndefinedMetricWarning: Precision and F-score are ill-defined and being set to 0.0 in labels with no predicted samples. Use `zero_division` parameter to control this behavior.\n",
      "  _warn_prf(average, modifier, msg_start, len(result))\n",
      "/opt/anaconda3/envs/pyclass/lib/python3.9/site-packages/sklearn/metrics/_classification.py:1327: UndefinedMetricWarning: Precision and F-score are ill-defined and being set to 0.0 in labels with no predicted samples. Use `zero_division` parameter to control this behavior.\n",
      "  _warn_prf(average, modifier, msg_start, len(result))\n",
      "/opt/anaconda3/envs/pyclass/lib/python3.9/site-packages/sklearn/metrics/_classification.py:1327: UndefinedMetricWarning: Precision and F-score are ill-defined and being set to 0.0 in labels with no predicted samples. Use `zero_division` parameter to control this behavior.\n",
      "  _warn_prf(average, modifier, msg_start, len(result))\n",
      "/opt/anaconda3/envs/pyclass/lib/python3.9/site-packages/sklearn/metrics/_classification.py:1327: UndefinedMetricWarning: Precision and F-score are ill-defined and being set to 0.0 in labels with no predicted samples. Use `zero_division` parameter to control this behavior.\n",
      "  _warn_prf(average, modifier, msg_start, len(result))\n",
      "/opt/anaconda3/envs/pyclass/lib/python3.9/site-packages/sklearn/metrics/_classification.py:1327: UndefinedMetricWarning: Precision and F-score are ill-defined and being set to 0.0 in labels with no predicted samples. Use `zero_division` parameter to control this behavior.\n",
      "  _warn_prf(average, modifier, msg_start, len(result))\n",
      "/opt/anaconda3/envs/pyclass/lib/python3.9/site-packages/sklearn/metrics/_classification.py:1327: UndefinedMetricWarning: Precision and F-score are ill-defined and being set to 0.0 in labels with no predicted samples. Use `zero_division` parameter to control this behavior.\n",
      "  _warn_prf(average, modifier, msg_start, len(result))\n",
      "/opt/anaconda3/envs/pyclass/lib/python3.9/site-packages/sklearn/metrics/_classification.py:1327: UndefinedMetricWarning: Precision and F-score are ill-defined and being set to 0.0 in labels with no predicted samples. Use `zero_division` parameter to control this behavior.\n",
      "  _warn_prf(average, modifier, msg_start, len(result))\n",
      "/opt/anaconda3/envs/pyclass/lib/python3.9/site-packages/sklearn/metrics/_classification.py:1327: UndefinedMetricWarning: Precision and F-score are ill-defined and being set to 0.0 in labels with no predicted samples. Use `zero_division` parameter to control this behavior.\n",
      "  _warn_prf(average, modifier, msg_start, len(result))\n",
      "/opt/anaconda3/envs/pyclass/lib/python3.9/site-packages/sklearn/metrics/_classification.py:1327: UndefinedMetricWarning: Precision and F-score are ill-defined and being set to 0.0 in labels with no predicted samples. Use `zero_division` parameter to control this behavior.\n",
      "  _warn_prf(average, modifier, msg_start, len(result))\n",
      "/opt/anaconda3/envs/pyclass/lib/python3.9/site-packages/sklearn/metrics/_classification.py:1327: UndefinedMetricWarning: Precision and F-score are ill-defined and being set to 0.0 in labels with no predicted samples. Use `zero_division` parameter to control this behavior.\n",
      "  _warn_prf(average, modifier, msg_start, len(result))\n",
      "/opt/anaconda3/envs/pyclass/lib/python3.9/site-packages/sklearn/metrics/_classification.py:1327: UndefinedMetricWarning: Precision and F-score are ill-defined and being set to 0.0 in labels with no predicted samples. Use `zero_division` parameter to control this behavior.\n",
      "  _warn_prf(average, modifier, msg_start, len(result))\n",
      "/opt/anaconda3/envs/pyclass/lib/python3.9/site-packages/sklearn/metrics/_classification.py:1327: UndefinedMetricWarning: Precision and F-score are ill-defined and being set to 0.0 in labels with no predicted samples. Use `zero_division` parameter to control this behavior.\n",
      "  _warn_prf(average, modifier, msg_start, len(result))\n"
     ]
    },
    {
     "name": "stdout",
     "output_type": "stream",
     "text": [
      "              precision    recall  f1-score   support\n",
      "\n",
      "         0.0       0.00      0.00      0.00       742\n",
      "         1.0       0.91      1.00      0.95      7248\n",
      "\n",
      "    accuracy                           0.91      7990\n",
      "   macro avg       0.45      0.50      0.48      7990\n",
      "weighted avg       0.82      0.91      0.86      7990\n",
      "\n",
      "\n",
      "******** For i = 0.6 ******\n",
      "Testing accuracy is 0.907133917396746 f1_score is 0.9513059456621603\n",
      "[[   0  742]\n",
      " [   0 7248]]\n",
      "              precision    recall  f1-score   support\n",
      "\n",
      "         0.0       0.00      0.00      0.00       742\n",
      "         1.0       0.91      1.00      0.95      7248\n",
      "\n",
      "    accuracy                           0.91      7990\n",
      "   macro avg       0.45      0.50      0.48      7990\n",
      "weighted avg       0.82      0.91      0.86      7990\n",
      "\n",
      "\n",
      "******** For i = 0.65 ******\n",
      "Testing accuracy is 0.9081351689612015 f1_score is 0.9518056467498358\n",
      "[[   8  734]\n",
      " [   0 7248]]\n",
      "              precision    recall  f1-score   support\n",
      "\n",
      "         0.0       1.00      0.01      0.02       742\n",
      "         1.0       0.91      1.00      0.95      7248\n",
      "\n",
      "    accuracy                           0.91      7990\n",
      "   macro avg       0.95      0.51      0.49      7990\n",
      "weighted avg       0.92      0.91      0.87      7990\n",
      "\n",
      "\n",
      "******** For i = 0.7 ******\n",
      "Testing accuracy is 0.9197747183979975 f1_score is 0.957642238815833\n",
      "[[ 103  639]\n",
      " [   2 7246]]\n",
      "              precision    recall  f1-score   support\n",
      "\n",
      "         0.0       0.98      0.14      0.24       742\n",
      "         1.0       0.92      1.00      0.96      7248\n",
      "\n",
      "    accuracy                           0.92      7990\n",
      "   macro avg       0.95      0.57      0.60      7990\n",
      "weighted avg       0.92      0.92      0.89      7990\n",
      "\n",
      "\n",
      "******** For i = 0.75 ******\n",
      "Testing accuracy is 0.9181476846057572 f1_score is 0.9562248995983936\n",
      "[[ 193  549]\n",
      " [ 105 7143]]\n",
      "              precision    recall  f1-score   support\n",
      "\n",
      "         0.0       0.65      0.26      0.37       742\n",
      "         1.0       0.93      0.99      0.96      7248\n",
      "\n",
      "    accuracy                           0.92      7990\n",
      "   macro avg       0.79      0.62      0.66      7990\n",
      "weighted avg       0.90      0.92      0.90      7990\n",
      "\n",
      "\n",
      "******** For i = 0.8 ******\n",
      "Testing accuracy is 0.8949937421777222 f1_score is 0.9426873420315596\n",
      "[[ 251  491]\n",
      " [ 348 6900]]\n",
      "              precision    recall  f1-score   support\n",
      "\n",
      "         0.0       0.42      0.34      0.37       742\n",
      "         1.0       0.93      0.95      0.94      7248\n",
      "\n",
      "    accuracy                           0.89      7990\n",
      "   macro avg       0.68      0.65      0.66      7990\n",
      "weighted avg       0.89      0.89      0.89      7990\n",
      "\n",
      "\n",
      "******** For i = 0.85 ******\n",
      "Testing accuracy is 0.8257822277847309 f1_score is 0.8999999999999999\n",
      "[[ 334  408]\n",
      " [ 984 6264]]\n",
      "              precision    recall  f1-score   support\n",
      "\n",
      "         0.0       0.25      0.45      0.32       742\n",
      "         1.0       0.94      0.86      0.90      7248\n",
      "\n",
      "    accuracy                           0.83      7990\n",
      "   macro avg       0.60      0.66      0.61      7990\n",
      "weighted avg       0.88      0.83      0.85      7990\n",
      "\n",
      "\n",
      "******** For i = 0.9 ******\n",
      "Testing accuracy is 0.6183979974968711 f1_score is 0.7462761088458019\n",
      "[[ 457  285]\n",
      " [2764 4484]]\n",
      "              precision    recall  f1-score   support\n",
      "\n",
      "         0.0       0.14      0.62      0.23       742\n",
      "         1.0       0.94      0.62      0.75      7248\n",
      "\n",
      "    accuracy                           0.62      7990\n",
      "   macro avg       0.54      0.62      0.49      7990\n",
      "weighted avg       0.87      0.62      0.70      7990\n",
      "\n",
      "\n",
      "******** For i = 0.95 ******\n",
      "Testing accuracy is 0.32340425531914896 f1_score is 0.4182092122255704\n",
      "[[ 641  101]\n",
      " [5305 1943]]\n",
      "              precision    recall  f1-score   support\n",
      "\n",
      "         0.0       0.11      0.86      0.19       742\n",
      "         1.0       0.95      0.27      0.42      7248\n",
      "\n",
      "    accuracy                           0.32      7990\n",
      "   macro avg       0.53      0.57      0.30      7990\n",
      "weighted avg       0.87      0.32      0.40      7990\n",
      "\n",
      "\n",
      "******** For i = 0.99 ******\n",
      "Testing accuracy is 0.09874843554443054 f1_score is 0.01369675386933297\n",
      "[[ 739    3]\n",
      " [7198   50]]\n",
      "              precision    recall  f1-score   support\n",
      "\n",
      "         0.0       0.09      1.00      0.17       742\n",
      "         1.0       0.94      0.01      0.01      7248\n",
      "\n",
      "    accuracy                           0.10      7990\n",
      "   macro avg       0.52      0.50      0.09      7990\n",
      "weighted avg       0.86      0.10      0.03      7990\n",
      "\n"
     ]
    }
   ],
   "source": [
    "from sklearn.metrics import accuracy_score\n",
    "from sklearn.metrics import confusion_matrix, f1_score\n",
    "\n",
    "model = LogisticRegression(solver='liblinear', random_state=42)\n",
    "model.fit(scaledX_train,y_train)\n",
    "\n",
    "y_pred_test = model.predict(scaledX_test)\n",
    "\n",
    "pred_proba_df = pd.DataFrame(model.predict_proba(scaledX_test)) #Probability of the prediction\n",
    "threshold_list = [0.05,0.1,0.15,0.2,0.25,0.3,0.35,0.4,0.45,0.5,0.55,0.6,0.65,.7,.75,.8,.85,.9,.95,.99]\n",
    "for i in threshold_list:\n",
    "    print ('\\n******** For i = {} ******'.format(i))\n",
    "    Y_test_pred = pred_proba_df.applymap(lambda x: 1 if x>i else 0) #Dataframe with final prediction from the model\n",
    "    test_accuracy = accuracy_score(y_test,Y_test_pred[1])\n",
    "    f_score = f1_score(y_test,Y_test_pred[1])\n",
    "    print('Testing accuracy is {}'.format(test_accuracy),'f1_score is {}'.format(f_score))\n",
    "    print(confusion_matrix(y_test,Y_test_pred[1]))\n",
    "    print(classification_report(y_test,Y_test_pred[1]))"
   ]
  },
  {
   "cell_type": "markdown",
   "id": "e3896333",
   "metadata": {},
   "source": [
    "Based on this trial and error, our model performs best with threshold = 0.8"
   ]
  },
  {
   "cell_type": "markdown",
   "id": "1f507c1a",
   "metadata": {},
   "source": [
    "## Optimize Model with 0.8 prob threshold"
   ]
  },
  {
   "cell_type": "code",
   "execution_count": 63,
   "id": "94e2b5b4",
   "metadata": {
    "scrolled": true
   },
   "outputs": [
    {
     "name": "stdout",
     "output_type": "stream",
     "text": [
      "\n",
      "******** For PROB = 0.8 ******\n",
      "Our testing accuracy is 0.907133917396746\n",
      "              precision    recall  f1-score   support\n",
      "\n",
      "           0       0.34      0.42      0.37       599\n",
      "           1       0.95      0.93      0.94      7391\n",
      "\n",
      "    accuracy                           0.89      7990\n",
      "   macro avg       0.65      0.68      0.66      7990\n",
      "weighted avg       0.91      0.89      0.90      7990\n",
      "\n"
     ]
    }
   ],
   "source": [
    "PROB = 0.8\n",
    "model = LogisticRegression(solver='liblinear', random_state=42)\n",
    "model.fit(scaledX_train,y_train)\n",
    "y_pred_test = model.predict(scaledX_test)\n",
    "pred_proba_df = pd.DataFrame(model.predict_proba(scaledX_test))\n",
    "\n",
    "\n",
    "print ('\\n******** For PROB = {} ******'.format(PROB))\n",
    "Y_test_pred = pred_proba_df.applymap(lambda x: 1 if x>PROB else 0)\n",
    "test_accuracy = accuracy_score(y_test, y_pred_test)\n",
    "print('Our testing accuracy is {}'.format(test_accuracy))\n",
    "print(classification_report(Y_test_pred[1],y_test))"
   ]
  },
  {
   "cell_type": "code",
   "execution_count": 69,
   "id": "8c6fb07e",
   "metadata": {},
   "outputs": [
    {
     "data": {
      "image/png": "[encoded data removed]",
      "text/plain": [
       "<Figure size 576x432 with 2 Axes>"
      ]
     },
     "metadata": {
      "needs_background": "light"
     },
     "output_type": "display_data"
    }
   ],
   "source": [
    "from sklearn.metrics import ConfusionMatrixDisplay\n",
    "\n",
    "tuned_cm = confusion_matrix(Y_test_pred[1],y_test)\n",
    "\n",
    "# Change figure size and increase dpi for better resolution\n",
    "# and get reference to axes object\n",
    "fig, ax = plt.subplots(figsize=(8,6))\n",
    "\n",
    "# initialize using the raw 2D confusion matrix \n",
    "# and output labels (in our case, it's 0 and 1)\n",
    "display = ConfusionMatrixDisplay(tuned_cm, display_labels=model.classes_)\n",
    "\n",
    "# set the plot title using the axes object\n",
    "ax.set(title='Confusion Matrix for Loan Applications Prediction Model after Tuning')\n",
    "\n",
    "# show the plot. \n",
    "# Pass the parameter ax to show customizations (ex. title) \n",
    "display.plot(ax=ax);"
   ]
  },
  {
   "cell_type": "markdown",
   "id": "904fe592",
   "metadata": {},
   "source": [
    "## Retest Model"
   ]
  },
  {
   "cell_type": "code",
   "execution_count": 39,
   "id": "0e031fac",
   "metadata": {},
   "outputs": [],
   "source": [
    "eff_df = pd.read_csv(\"/Users/nguyenhalinh/Desktop/Research/dea_each_county_csv/42101_county_eff.csv\")"
   ]
  },
  {
   "cell_type": "code",
   "execution_count": 40,
   "id": "8cf2e7a2",
   "metadata": {},
   "outputs": [
    {
     "data": {
      "text/html": [
       "<div>\n",
       "<style scoped>\n",
       "    .dataframe tbody tr th:only-of-type {\n",
       "        vertical-align: middle;\n",
       "    }\n",
       "\n",
       "    .dataframe tbody tr th {\n",
       "        vertical-align: top;\n",
       "    }\n",
       "\n",
       "    .dataframe thead th {\n",
       "        text-align: right;\n",
       "    }\n",
       "</style>\n",
       "<table border=\"1\" class=\"dataframe\">\n",
       "  <thead>\n",
       "    <tr style=\"text-align: right;\">\n",
       "      <th></th>\n",
       "      <th>Unnamed: 0</th>\n",
       "      <th>loan_amount</th>\n",
       "      <th>property_value</th>\n",
       "      <th>income</th>\n",
       "      <th>debt_to_income_ratio</th>\n",
       "      <th>outcome</th>\n",
       "      <th>DEA</th>\n",
       "      <th>eff_loan_amount</th>\n",
       "      <th>eff_property_value</th>\n",
       "      <th>eff_income</th>\n",
       "      <th>eff_debt_to_income_ratio</th>\n",
       "    </tr>\n",
       "  </thead>\n",
       "  <tbody>\n",
       "    <tr>\n",
       "      <th>0</th>\n",
       "      <td>0</td>\n",
       "      <td>115.0</td>\n",
       "      <td>115.0</td>\n",
       "      <td>51.0</td>\n",
       "      <td>44.0</td>\n",
       "      <td>1.0</td>\n",
       "      <td>0.227273</td>\n",
       "      <td>189.0</td>\n",
       "      <td>210.0</td>\n",
       "      <td>51.0</td>\n",
       "      <td>10.0</td>\n",
       "    </tr>\n",
       "    <tr>\n",
       "      <th>1</th>\n",
       "      <td>1</td>\n",
       "      <td>145.0</td>\n",
       "      <td>145.0</td>\n",
       "      <td>43.0</td>\n",
       "      <td>39.0</td>\n",
       "      <td>1.0</td>\n",
       "      <td>0.256410</td>\n",
       "      <td>155.0</td>\n",
       "      <td>205.0</td>\n",
       "      <td>83.0</td>\n",
       "      <td>10.0</td>\n",
       "    </tr>\n",
       "    <tr>\n",
       "      <th>2</th>\n",
       "      <td>2</td>\n",
       "      <td>165.0</td>\n",
       "      <td>175.0</td>\n",
       "      <td>49.0</td>\n",
       "      <td>25.0</td>\n",
       "      <td>1.0</td>\n",
       "      <td>0.400000</td>\n",
       "      <td>188.8</td>\n",
       "      <td>209.4</td>\n",
       "      <td>49.0</td>\n",
       "      <td>10.0</td>\n",
       "    </tr>\n",
       "    <tr>\n",
       "      <th>3</th>\n",
       "      <td>3</td>\n",
       "      <td>5.0</td>\n",
       "      <td>175.0</td>\n",
       "      <td>49.0</td>\n",
       "      <td>25.0</td>\n",
       "      <td>1.0</td>\n",
       "      <td>0.400000</td>\n",
       "      <td>188.8</td>\n",
       "      <td>209.4</td>\n",
       "      <td>49.0</td>\n",
       "      <td>10.0</td>\n",
       "    </tr>\n",
       "    <tr>\n",
       "      <th>4</th>\n",
       "      <td>4</td>\n",
       "      <td>95.0</td>\n",
       "      <td>115.0</td>\n",
       "      <td>72.0</td>\n",
       "      <td>25.0</td>\n",
       "      <td>1.0</td>\n",
       "      <td>0.400000</td>\n",
       "      <td>190.6</td>\n",
       "      <td>216.1</td>\n",
       "      <td>72.0</td>\n",
       "      <td>10.0</td>\n",
       "    </tr>\n",
       "  </tbody>\n",
       "</table>\n",
       "</div>"
      ],
      "text/plain": [
       "   Unnamed: 0  loan_amount  property_value  income  debt_to_income_ratio  \\\n",
       "0           0        115.0           115.0    51.0                  44.0   \n",
       "1           1        145.0           145.0    43.0                  39.0   \n",
       "2           2        165.0           175.0    49.0                  25.0   \n",
       "3           3          5.0           175.0    49.0                  25.0   \n",
       "4           4         95.0           115.0    72.0                  25.0   \n",
       "\n",
       "   outcome       DEA  eff_loan_amount  eff_property_value  eff_income  \\\n",
       "0      1.0  0.227273            189.0               210.0        51.0   \n",
       "1      1.0  0.256410            155.0               205.0        83.0   \n",
       "2      1.0  0.400000            188.8               209.4        49.0   \n",
       "3      1.0  0.400000            188.8               209.4        49.0   \n",
       "4      1.0  0.400000            190.6               216.1        72.0   \n",
       "\n",
       "   eff_debt_to_income_ratio  \n",
       "0                      10.0  \n",
       "1                      10.0  \n",
       "2                      10.0  \n",
       "3                      10.0  \n",
       "4                      10.0  "
      ]
     },
     "execution_count": 40,
     "metadata": {},
     "output_type": "execute_result"
    }
   ],
   "source": [
    "eff_df.head()"
   ]
  },
  {
   "cell_type": "code",
   "execution_count": 41,
   "id": "ff24b846",
   "metadata": {
    "scrolled": true
   },
   "outputs": [],
   "source": [
    "#Drop unnecessary columns\n",
    "eff_df = eff_df.drop(eff_df.columns[0],axis=1)"
   ]
  },
  {
   "cell_type": "code",
   "execution_count": 42,
   "id": "6e58bb9c",
   "metadata": {},
   "outputs": [],
   "source": [
    "eff_df = eff_df.drop(eff_df.columns[5],axis=1)"
   ]
  },
  {
   "cell_type": "code",
   "execution_count": 43,
   "id": "3df5e6b8",
   "metadata": {},
   "outputs": [
    {
     "data": {
      "text/html": [
       "<div>\n",
       "<style scoped>\n",
       "    .dataframe tbody tr th:only-of-type {\n",
       "        vertical-align: middle;\n",
       "    }\n",
       "\n",
       "    .dataframe tbody tr th {\n",
       "        vertical-align: top;\n",
       "    }\n",
       "\n",
       "    .dataframe thead th {\n",
       "        text-align: right;\n",
       "    }\n",
       "</style>\n",
       "<table border=\"1\" class=\"dataframe\">\n",
       "  <thead>\n",
       "    <tr style=\"text-align: right;\">\n",
       "      <th></th>\n",
       "      <th>loan_amount</th>\n",
       "      <th>property_value</th>\n",
       "      <th>income</th>\n",
       "      <th>debt_to_income_ratio</th>\n",
       "      <th>outcome</th>\n",
       "      <th>eff_loan_amount</th>\n",
       "      <th>eff_property_value</th>\n",
       "      <th>eff_income</th>\n",
       "      <th>eff_debt_to_income_ratio</th>\n",
       "    </tr>\n",
       "  </thead>\n",
       "  <tbody>\n",
       "    <tr>\n",
       "      <th>0</th>\n",
       "      <td>115.0</td>\n",
       "      <td>115.0</td>\n",
       "      <td>51.0</td>\n",
       "      <td>44.0</td>\n",
       "      <td>1.0</td>\n",
       "      <td>189.0</td>\n",
       "      <td>210.0</td>\n",
       "      <td>51.0</td>\n",
       "      <td>10.0</td>\n",
       "    </tr>\n",
       "    <tr>\n",
       "      <th>1</th>\n",
       "      <td>145.0</td>\n",
       "      <td>145.0</td>\n",
       "      <td>43.0</td>\n",
       "      <td>39.0</td>\n",
       "      <td>1.0</td>\n",
       "      <td>155.0</td>\n",
       "      <td>205.0</td>\n",
       "      <td>83.0</td>\n",
       "      <td>10.0</td>\n",
       "    </tr>\n",
       "    <tr>\n",
       "      <th>2</th>\n",
       "      <td>165.0</td>\n",
       "      <td>175.0</td>\n",
       "      <td>49.0</td>\n",
       "      <td>25.0</td>\n",
       "      <td>1.0</td>\n",
       "      <td>188.8</td>\n",
       "      <td>209.4</td>\n",
       "      <td>49.0</td>\n",
       "      <td>10.0</td>\n",
       "    </tr>\n",
       "    <tr>\n",
       "      <th>3</th>\n",
       "      <td>5.0</td>\n",
       "      <td>175.0</td>\n",
       "      <td>49.0</td>\n",
       "      <td>25.0</td>\n",
       "      <td>1.0</td>\n",
       "      <td>188.8</td>\n",
       "      <td>209.4</td>\n",
       "      <td>49.0</td>\n",
       "      <td>10.0</td>\n",
       "    </tr>\n",
       "    <tr>\n",
       "      <th>4</th>\n",
       "      <td>95.0</td>\n",
       "      <td>115.0</td>\n",
       "      <td>72.0</td>\n",
       "      <td>25.0</td>\n",
       "      <td>1.0</td>\n",
       "      <td>190.6</td>\n",
       "      <td>216.1</td>\n",
       "      <td>72.0</td>\n",
       "      <td>10.0</td>\n",
       "    </tr>\n",
       "  </tbody>\n",
       "</table>\n",
       "</div>"
      ],
      "text/plain": [
       "   loan_amount  property_value  income  debt_to_income_ratio  outcome  \\\n",
       "0        115.0           115.0    51.0                  44.0      1.0   \n",
       "1        145.0           145.0    43.0                  39.0      1.0   \n",
       "2        165.0           175.0    49.0                  25.0      1.0   \n",
       "3          5.0           175.0    49.0                  25.0      1.0   \n",
       "4         95.0           115.0    72.0                  25.0      1.0   \n",
       "\n",
       "   eff_loan_amount  eff_property_value  eff_income  eff_debt_to_income_ratio  \n",
       "0            189.0               210.0        51.0                      10.0  \n",
       "1            155.0               205.0        83.0                      10.0  \n",
       "2            188.8               209.4        49.0                      10.0  \n",
       "3            188.8               209.4        49.0                      10.0  \n",
       "4            190.6               216.1        72.0                      10.0  "
      ]
     },
     "execution_count": 43,
     "metadata": {},
     "output_type": "execute_result"
    }
   ],
   "source": [
    "eff_df.head()"
   ]
  },
  {
   "cell_type": "code",
   "execution_count": 44,
   "id": "6cf43198",
   "metadata": {},
   "outputs": [
    {
     "data": {
      "text/plain": [
       "loan_amount                 float64\n",
       "property_value              float64\n",
       "income                      float64\n",
       "debt_to_income_ratio        float64\n",
       "outcome                     float64\n",
       "eff_loan_amount             float64\n",
       "eff_property_value          float64\n",
       "eff_income                  float64\n",
       "eff_debt_to_income_ratio    float64\n",
       "dtype: object"
      ]
     },
     "execution_count": 44,
     "metadata": {},
     "output_type": "execute_result"
    }
   ],
   "source": [
    "eff_df.dtypes"
   ]
  },
  {
   "cell_type": "code",
   "execution_count": 45,
   "id": "ec037233",
   "metadata": {},
   "outputs": [],
   "source": [
    "#get original data\n",
    "original_df = eff_df[eff_df.columns[:5]]"
   ]
  },
  {
   "cell_type": "code",
   "execution_count": 46,
   "id": "2d55c5f0",
   "metadata": {},
   "outputs": [],
   "source": [
    "#get efficient (after DEA) data\n",
    "new_df = eff_df[eff_df.columns[4:]]"
   ]
  },
  {
   "cell_type": "code",
   "execution_count": 47,
   "id": "3f44948d",
   "metadata": {},
   "outputs": [
    {
     "name": "stderr",
     "output_type": "stream",
     "text": [
      "/var/folders/vf/c31mrqv54zg80c74f5bw2__c0000gn/T/ipykernel_50068/1578343534.py:2: SettingWithCopyWarning: \n",
      "A value is trying to be set on a copy of a slice from a DataFrame\n",
      "\n",
      "See the caveats in the documentation: https://pandas.pydata.org/pandas-docs/stable/user_guide/indexing.html#returning-a-view-versus-a-copy\n",
      "  new_df.rename(\n"
     ]
    }
   ],
   "source": [
    "#Rename columns\n",
    "new_df.rename(\n",
    "    columns={\"eff_loan_amount\": \"loan_amount\", \"eff_property_value\": \"property_value\", \"eff_income\": \"income\", \"eff_debt_to_income_ratio\":'debt_to_income_ratio'},\n",
    "    inplace=True,)"
   ]
  },
  {
   "cell_type": "code",
   "execution_count": 48,
   "id": "8ac19c41",
   "metadata": {},
   "outputs": [],
   "source": [
    "#only selected rejected applications\n",
    "new_df = new_df[new_df['outcome']==0]"
   ]
  },
  {
   "cell_type": "code",
   "execution_count": 49,
   "id": "71e355d3",
   "metadata": {
    "scrolled": false
   },
   "outputs": [
    {
     "data": {
      "text/html": [
       "<div>\n",
       "<style scoped>\n",
       "    .dataframe tbody tr th:only-of-type {\n",
       "        vertical-align: middle;\n",
       "    }\n",
       "\n",
       "    .dataframe tbody tr th {\n",
       "        vertical-align: top;\n",
       "    }\n",
       "\n",
       "    .dataframe thead th {\n",
       "        text-align: right;\n",
       "    }\n",
       "</style>\n",
       "<table border=\"1\" class=\"dataframe\">\n",
       "  <thead>\n",
       "    <tr style=\"text-align: right;\">\n",
       "      <th></th>\n",
       "      <th>outcome</th>\n",
       "      <th>loan_amount</th>\n",
       "      <th>property_value</th>\n",
       "      <th>income</th>\n",
       "      <th>debt_to_income_ratio</th>\n",
       "    </tr>\n",
       "  </thead>\n",
       "  <tbody>\n",
       "    <tr>\n",
       "      <th>9</th>\n",
       "      <td>0.0</td>\n",
       "      <td>285.0</td>\n",
       "      <td>417.3</td>\n",
       "      <td>526.7</td>\n",
       "      <td>10.0</td>\n",
       "    </tr>\n",
       "    <tr>\n",
       "      <th>17</th>\n",
       "      <td>0.0</td>\n",
       "      <td>335.0</td>\n",
       "      <td>477.5</td>\n",
       "      <td>539.8</td>\n",
       "      <td>10.0</td>\n",
       "    </tr>\n",
       "    <tr>\n",
       "      <th>27</th>\n",
       "      <td>0.0</td>\n",
       "      <td>192.7</td>\n",
       "      <td>224.1</td>\n",
       "      <td>99.0</td>\n",
       "      <td>10.0</td>\n",
       "    </tr>\n",
       "    <tr>\n",
       "      <th>51</th>\n",
       "      <td>0.0</td>\n",
       "      <td>192.4</td>\n",
       "      <td>222.9</td>\n",
       "      <td>95.0</td>\n",
       "      <td>10.0</td>\n",
       "    </tr>\n",
       "    <tr>\n",
       "      <th>75</th>\n",
       "      <td>0.0</td>\n",
       "      <td>265.0</td>\n",
       "      <td>393.2</td>\n",
       "      <td>521.5</td>\n",
       "      <td>10.0</td>\n",
       "    </tr>\n",
       "  </tbody>\n",
       "</table>\n",
       "</div>"
      ],
      "text/plain": [
       "    outcome  loan_amount  property_value  income  debt_to_income_ratio\n",
       "9       0.0        285.0           417.3   526.7                  10.0\n",
       "17      0.0        335.0           477.5   539.8                  10.0\n",
       "27      0.0        192.7           224.1    99.0                  10.0\n",
       "51      0.0        192.4           222.9    95.0                  10.0\n",
       "75      0.0        265.0           393.2   521.5                  10.0"
      ]
     },
     "execution_count": 49,
     "metadata": {},
     "output_type": "execute_result"
    }
   ],
   "source": [
    "new_df.head()"
   ]
  },
  {
   "cell_type": "markdown",
   "id": "69a0e6ba",
   "metadata": {},
   "source": [
    "### Data Preparation"
   ]
  },
  {
   "cell_type": "code",
   "execution_count": 50,
   "id": "81cc459d",
   "metadata": {},
   "outputs": [],
   "source": [
    "newX_test = new_df.drop(['outcome'], axis=1)\n",
    "newy_test = new_df['outcome']"
   ]
  },
  {
   "cell_type": "code",
   "execution_count": 51,
   "id": "2a0abcb9",
   "metadata": {},
   "outputs": [],
   "source": [
    "#scale features\n",
    "new_scaledX_test = scaler.fit_transform(newX_test)\n",
    "new_scaledX_test = pd.DataFrame(new_scaledX_test, columns=[cols])"
   ]
  },
  {
   "cell_type": "code",
   "execution_count": 52,
   "id": "4f3e510f",
   "metadata": {},
   "outputs": [
    {
     "name": "stdout",
     "output_type": "stream",
     "text": [
      "\n",
      "******** For PROB = 0.8 ******\n",
      "Our testing accuracy is 0.0\n",
      "[[   0 1897]\n",
      " [   0    0]]\n"
     ]
    }
   ],
   "source": [
    "PROB = 0.8\n",
    "new_y_pred_test = model.predict(new_scaledX_test)\n",
    "new_pred_proba_df = pd.DataFrame(model.predict_proba(new_scaledX_test))\n",
    "\n",
    "print ('\\n******** For PROB = {} ******'.format(PROB))\n",
    "new_Y_test_pred = new_pred_proba_df.applymap(lambda x: 1 if x>PROB else 0)\n",
    "new_test_accuracy = accuracy_score(newy_test, new_Y_test_pred[new_Y_test_pred.columns[1:]])\n",
    "print('Our testing accuracy is {}'.format(new_test_accuracy))\n",
    "print(confusion_matrix(newy_test,new_Y_test_pred[new_Y_test_pred.columns[1:]]))"
   ]
  },
  {
   "cell_type": "code",
   "execution_count": 53,
   "id": "63204c30",
   "metadata": {},
   "outputs": [
    {
     "name": "stdout",
     "output_type": "stream",
     "text": [
      "Confusion matrix\n",
      "\n",
      " [[   0 1897]\n",
      " [   0    0]]\n",
      "\n",
      "True Positives(TP) =  0\n",
      "\n",
      "True Negatives(TN) =  0\n",
      "\n",
      "False Positives(FP) =  1897\n",
      "\n",
      "False Negatives(FN) =  0\n"
     ]
    }
   ],
   "source": [
    "new_cm = confusion_matrix(newy_test, new_y_pred_test)\n",
    "\n",
    "tn, fp, fn, tp = new_cm.ravel()\n",
    "print('Confusion matrix\\n\\n', new_cm)\n",
    "\n",
    "print('\\nTrue Positives(TP) = ', tp)\n",
    "\n",
    "print('\\nTrue Negatives(TN) = ', tn)\n",
    "\n",
    "print('\\nFalse Positives(FP) = ', fp)\n",
    "\n",
    "print('\\nFalse Negatives(FN) = ', fn)"
   ]
  },
  {
   "cell_type": "code",
   "execution_count": 70,
   "id": "890aa080",
   "metadata": {},
   "outputs": [
    {
     "data": {
      "image/png": "[encoded data removed]",
      "text/plain": [
       "<Figure size 576x432 with 2 Axes>"
      ]
     },
     "metadata": {
      "needs_background": "light"
     },
     "output_type": "display_data"
    }
   ],
   "source": [
    "\n",
    "# Change figure size and increase dpi for better resolution\n",
    "# and get reference to axes object\n",
    "fig, ax = plt.subplots(figsize=(8,6))\n",
    "\n",
    "# initialize using the raw 2D confusion matrix \n",
    "# and output labels (in our case, it's 0 and 1)\n",
    "display = ConfusionMatrixDisplay(new_cm, display_labels=model.classes_)\n",
    "\n",
    "# set the plot title using the axes object\n",
    "ax.set(title='Confusion Matrix for Loan Applications Prediction Model Retest Rejected Applications')\n",
    "\n",
    "# show the plot. \n",
    "# Pass the parameter ax to show customizations (ex. title) \n",
    "display.plot(ax=ax);"
   ]
  },
  {
   "cell_type": "markdown",
   "id": "cd31bc01",
   "metadata": {},
   "source": [
    "As expected, all the rejected applications after being optimized with DEA are now predicted as accepted by logistic regression model"
   ]
  }
 ],
 "metadata": {
  "kernelspec": {
   "display_name": "Python 3 (ipykernel)",
   "language": "python",
   "name": "python3"
  },
  "language_info": {
   "codemirror_mode": {
    "name": "ipython",
    "version": 3
   },
   "file_extension": ".py",
   "mimetype": "text/x-python",
   "name": "python",
   "nbconvert_exporter": "python",
   "pygments_lexer": "ipython3",
   "version": "3.9.12"
  }
 },
 "nbformat": 4,
 "nbformat_minor": 5
}
